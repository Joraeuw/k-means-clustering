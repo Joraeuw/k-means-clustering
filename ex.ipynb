{
 "cells": [
  {
   "cell_type": "markdown",
   "metadata": {},
   "source": [
    "## Introduction to K-Means Clustering\n",
    "\n",
    "K-Means clustering is a popular unsupervised machine learning algorithm used for partitioning a dataset into distinct clusters. It is widely used in various fields, including data mining, image analysis, and pattern recognition.\n",
    "\n",
    "### How K-Means Clustering Works\n",
    "1. **Initialization**: The algorithm starts by randomly initializing cluster centroids.\n",
    "   1. ##### Random Initialization:\n",
    "      The initial centroids are chosen randomly from the data points in the dataset. Typically, K-Means selects K data points at random to serve as the initial centroids, where K is the number of desired clusters specified by the user. This random selection ensures that the algorithm explores a diverse set of starting points in the feature space.\n",
    "\n",
    "   2. ##### Importance of Initial Centroids:\n",
    "      The choice of initial centroids can significantly impact the final clustering outcome. Suboptimal initial centroids may lead to suboptimal clustering results, such as clusters being stuck in local minima or failing to capture the underlying structure of the data. Therefore, selecting appropriate initial centroids is crucial for the effectiveness of the K-Means algorithm.\n",
    "\n",
    "   3. ##### Effects of Initialization:\n",
    "      Since K-Means clustering is sensitive to the initial centroids, different random initializations may yield different clustering results. To mitigate this sensitivity, K-Means is often run multiple times with different random initializations, and the clustering result with the lowest objective function (e.g., total within-cluster variance) is selected as the final output.\n",
    "\n",
    "   4. ##### Advanced Initialization Techniques:\n",
    "      In addition to random initialization, various advanced techniques have been proposed to improve the selection of initial centroids. These techniques include k-means++ initialization, which intelligently selects initial centroids based on their distances from each other, ensuring a more balanced spread of centroids across the feature space. Other techniques involve using the results of hierarchical clustering or other clustering algorithms as initial centroids.\n",
    "\n",
    "2. **Assignment**: It assigns each data point to the nearest cluster centroid based on a distance metric (usually Euclidean distance).\n",
    "   1. ##### Nearest Centroid Assignment:\n",
    "   For each data point in the dataset, K-Means calculates its distance to each of the cluster centroids. The data point is then assigned to the cluster with the nearest centroid, i.e., the cluster whose centroid is closest to the data point in terms of Euclidean distance.\n",
    "\n",
    "   2. ##### Distance Metric:\n",
    "   Euclidean distance is commonly used as the distance metric in K-Means clustering due to its simplicity and effectiveness. However, other distance metrics such as Manhattan distance or cosine similarity can also be used depending on the nature of the data and the problem at hand.\n",
    "\n",
    "   3. ##### Minimization of Within-Cluster Variance:\n",
    "   The goal of the assignment step is to minimize the within-cluster variance, i.e., the sum of squared distances between each data point and its assigned centroid within the cluster. By assigning each data point to the nearest centroid, K-Means aims to create compact and well-separated clusters.\n",
    "\n",
    "   4. ##### Computational Efficiency:\n",
    "   While the assignment step involves calculating distances between data points and centroids, K-Means is computationally efficient due to its linear time complexity with respect to the number of data points and clusters.\n",
    "\n",
    "   5. ##### Iterative Process:\n",
    "   The assignment step is part of the iterative optimization process of K-Means clustering. After assigning all data points to clusters, the algorithm proceeds to the next step, where it updates the centroids based on the newly assigned data points. This iterative process continues until convergence, where the assignments and centroids no longer change significantly between iterations.\n",
    "\n",
    "3. **Update Centroids**: After all data points are assigned, the algorithm updates the cluster centroids by computing the mean of all data points assigned to each cluster.\n",
    "   1. ##### Computing Centroid Mean:\n",
    "   For each cluster, the algorithm calculates a new centroid position by taking the mean of the feature values of all data points assigned to that cluster. This mean represents the central point of the cluster in the feature space.\n",
    "\n",
    "   2. ##### Minimization of Within-Cluster Variance:\n",
    "   The Update Centroids step aims to minimize the within-cluster variance by adjusting the centroids to better represent the data points within each cluster. By computing the mean of the assigned data points, K-Means ensures that the centroids move towards the center of their respective clusters.\n",
    "\n",
    "   3. ##### Iterative Optimization:\n",
    "   Updating the centroids is part of the iterative optimization process of K-Means clustering. After updating the centroids, the algorithm repeats the Assignment step to reassign data points based on the new centroid positions. This iterative process continues until convergence, where the assignments and centroids stabilize and no longer change significantly between iterations.\n",
    "\n",
    "   4. ##### Convergence Criteria:\n",
    "   Convergence is reached when the centroids no longer change significantly between consecutive iterations or when a specified number of iterations is reached. At this point, the K-Means algorithm terminates, and the final clustering result is obtained.\n",
    "\n",
    "   5. ##### Computational Efficiency:\n",
    "   Although updating centroids involves computing means for each cluster, K-Means remains computationally efficient due to its linear time complexity. The computational cost of updating centroids scales linearly with the number of data points and clusters.\n",
    "\n",
    "4. **Iteration**: Steps 2 and 3 are repeated iteratively until convergence, i.e., until the centroids no longer change significantly or a predefined number of iterations is reached.\n",
    "\n",
    "### Key Concepts\n",
    "- **Clusters**: Groups of data points that are similar to each other and dissimilar to data points in other clusters.\n",
    "- **Centroids**: Representative points within each cluster, computed as the mean of all data points in the cluster.\n",
    "- **Distance Metric**: A measure of dissimilarity between data points, commonly Euclidean distance.\n",
    "- **Initialization**: K-Means is sensitive to initial centroid positions, and different initializations may lead to different clustering results.\n",
    "\n",
    "### Applications of K-Means Clustering\n",
    "- **Customer Segmentation**: Grouping customers based on similar behavior or characteristics.\n",
    "- **Image Compression**: Grouping similar pixels together to reduce the size of an image.\n",
    "- **Anomaly Detection**: Identifying unusual patterns or outliers in data.\n",
    "\n",
    "K-Means clustering is a versatile algorithm with various applications and can be applied to datasets of different sizes and dimensions to discover meaningful patterns and insights.\n",
    "\n",
    "\n",
    "\n",
    "\n"
   ]
  },
  {
   "cell_type": "markdown",
   "metadata": {},
   "source": [
    "<iframe src=\"https://www.naftaliharris.com/blog/visualizing-k-means-clustering/\" width=\"1600\" height=\"700\"></iframe>"
   ]
  },
  {
   "cell_type": "markdown",
   "metadata": {},
   "source": [
    "## Importing Required Libraries"
   ]
  },
  {
   "cell_type": "code",
   "execution_count": null,
   "metadata": {},
   "outputs": [],
   "source": [
    "!pip install numpy matplotlib plotly scikit-learn scipy"
   ]
  },
  {
   "cell_type": "code",
   "execution_count": 236,
   "metadata": {},
   "outputs": [],
   "source": [
    "import numpy as np\n",
    "import matplotlib.pyplot as plt\n",
    "import plotly.graph_objects as go\n",
    "\n",
    "from sklearn.model_selection import train_test_split\n",
    "from sklearn.metrics import accuracy_score, ConfusionMatrixDisplay\n",
    "from sklearn.cluster import KMeans\n",
    "from sklearn.metrics import confusion_matrix\n",
    "from sklearn.decomposition import PCA\n",
    "from sklearn import datasets\n",
    "from scipy.optimize import linear_sum_assignment"
   ]
  },
  {
   "cell_type": "markdown",
   "metadata": {},
   "source": [
    "## Explanation: Mapping Cluster Labels to True Labels\n",
    "\n",
    "The provided function `map_cluster_labels_to_true_labels` is used to map cluster labels obtained from K-Means clustering to the true labels, typically used in supervised learning scenarios. Below is an explanation of each step within the function:\n",
    "\n",
    "1. **Calculate Confusion Matrix**:\n",
    "   - `confusion_mat = confusion_matrix(true_labels, cluster_labels)`: This line computes the confusion matrix between the true labels and the cluster labels.\n",
    "\n",
    "2. **Optimal Label Assignment**:\n",
    "   - `row_inds, col_inds = linear_sum_assignment(confusion_mat, maximize=True)`: Using the Hungarian algorithm, this line finds the optimal assignment of true labels to cluster labels.\n",
    "\n",
    "3. **Create Label Map**:\n",
    "   - `label_map = dict(zip(col_inds, row_inds))`: This line creates a mapping between the cluster labels and the true labels based on the optimal assignment.\n",
    "\n",
    "4. **Remap Cluster Labels**:\n",
    "   - `remapped_y_pred = np.vectorize(label_map.get)(cluster_labels)`: Using the label map, this line remaps the cluster labels to the corresponding true labels.\n",
    "\n",
    "5. **Sort Confusion Matrix**:\n",
    "   - The next few lines sort the confusion matrix based on the optimal label assignment to enhance visualization.\n",
    "\n",
    "6. **Compute Maximum Value per Row**:\n",
    "   - `tmp = remapped_conf_matrix.max(axis=1)`: This line computes the maximum value per row in the remapped confusion matrix.\n",
    "\n",
    "7. **Update Maximum Values**:\n",
    "   - The subsequent loop updates the maximum values to obtain the indices corresponding to the correct class for each row.\n",
    "\n",
    "Finally, the function returns the remapped cluster labels, the sorted confusion matrix, and the indices representing the correct class for each row.\n",
    "\n",
    "The code block also includes loading the Iris dataset, splitting it into training and testing sets, and defining color and name mappings for visualization purposes."
   ]
  },
  {
   "cell_type": "code",
   "execution_count": 237,
   "metadata": {},
   "outputs": [],
   "source": [
    "def map_cluster_labels_to_true_labels(cluster_labels, true_labels):\n",
    "    confusion_mat = confusion_matrix(true_labels, cluster_labels)\n",
    "    row_inds, col_inds = linear_sum_assignment(confusion_mat, maximize=True)\n",
    "    label_map = dict(zip(col_inds, row_inds))\n",
    "    remapped_y_pred = np.vectorize(label_map.get)(cluster_labels)\n",
    "    remapped_conf_matrix = np.array([[row[label_map[i]] for i in range(len(row))] for row in confusion_mat])\n",
    "\n",
    "    transposed_matrix = remapped_conf_matrix.transpose()\n",
    "    sorted_columns = [sorted(column) for column in transposed_matrix]\n",
    "    sorted_matrix = list(map(list, zip(*sorted_columns)))\n",
    "\n",
    "    tmp = remapped_conf_matrix.max(axis=1)\n",
    "\n",
    "    for idx, row in enumerate(remapped_conf_matrix):\n",
    "        tmp[idx] = np.where(row == tmp[idx])[0][0]\n",
    "\n",
    "    return remapped_y_pred, np.array(sorted_matrix), tmp\n",
    "\n",
    "iris = datasets.load_iris()\n",
    "x = iris.data\n",
    "y = iris.target\n",
    "\n",
    "iris_colormap = np.array(['red', 'blue', 'green'])\n",
    "iris_namemap = np.array(iris.target_names)\n",
    "\n",
    "x_train, x_test, y_train, y_test = train_test_split(x, y, test_size=.45, random_state=42)\n"
   ]
  },
  {
   "cell_type": "markdown",
   "metadata": {},
   "source": [
    "## Visualizing Actual vs. Predicted Data in 3D\n",
    "\n",
    "The provided code block visualizes the actual data and the predicted data using a 3D scatter plot, comparing their distributions in the feature space.\n",
    "\n",
    "### Actual Data\n",
    "- The left subplot (`subplot(1, 2, 1)`) represents the actual data.\n",
    "- It visualizes the data points in a 3D space with features: Petal width, Sepal length, and Petal length.\n",
    "- Each data point is colored according to its true label using the colormap specified for the Iris dataset.\n",
    "\n",
    "### Prediction Data\n",
    "- The right subplot (`subplot(1, 2, 2)`) represents the predicted data.\n",
    "- It utilizes K-Means clustering to predict the labels of the test data.\n",
    "- The predicted labels are mapped to their true labels for comparison using the function `map_cluster_labels_to_true_labels`.\n",
    "- The data points are then visualized in a 3D space, colored according to the mapped labels.\n",
    "\n",
    "### Explanation\n",
    "- The code uses Matplotlib to create a figure with two subplots, each representing the actual and predicted data, respectively.\n",
    "- For each subplot, a 3D scatter plot is created using the `scatter` function, plotting the data points based on their feature values.\n",
    "- Axes labels and titles are set for clarity.\n",
    "- The color of each data point represents its class label, allowing for easy visualization and comparison between the actual and predicted data distributions.\n",
    "\n",
    "This visualization aids in assessing the performance of the K-Means clustering algorithm by comparing the clustering results with the ground truth labels."
   ]
  },
  {
   "cell_type": "code",
   "execution_count": 238,
   "metadata": {},
   "outputs": [
    {
     "data": {
      "image/png": "[encoded data removed]",
      "text/plain": [
       "<Figure size 1700x1000 with 2 Axes>"
      ]
     },
     "metadata": {},
     "output_type": "display_data"
    }
   ],
   "source": [
    "fig = plt.figure(figsize=(17, 10))\n",
    "\n",
    "#! Actual data\n",
    "ax = fig.add_subplot(1, 2, 1, projection=\"3d\", elev=48, azim=134)\n",
    "ax.xaxis.set_ticklabels([])\n",
    "ax.yaxis.set_ticklabels([])\n",
    "ax.zaxis.set_ticklabels([])\n",
    "ax.set_xlabel(\"Petal width\")\n",
    "ax.set_ylabel(\"Sepal length\")\n",
    "ax.set_zlabel(\"Petal length\")\n",
    "ax.set_title(\"Actual Data\")\n",
    "ax.scatter(x_test[:, 3], x_test[:, 0], x_test[:, 2], c=iris_colormap[y_test], edgecolor=\"k\")\n",
    "\n",
    "#! Prediction data\n",
    "ax = fig.add_subplot(1, 2, 2, projection=\"3d\", elev=48, azim=134)\n",
    "model = KMeans(n_clusters=3, algorithm=\"lloyd\", max_iter=300)\n",
    "model.fit(x_train)\n",
    "y_predicted = model.predict(x_test)\n",
    "\n",
    "\n",
    "mapped_labels, c_matrix_, _ = map_cluster_labels_to_true_labels(y_predicted, y_test)\n",
    "\n",
    "centroids = model.cluster_centers_\n",
    "ax.scatter(centroids[:, 3], centroids[:, 0], centroids[:, 2], c=\"yellow\", marker=\"s\", s=70, alpha=1)\n",
    "ax.scatter(x_test[:, 3], x_test[:, 0], x_test[:, 2], c=iris_colormap[mapped_labels], edgecolor=\"k\")\n",
    "ax.xaxis.set_ticklabels([])\n",
    "ax.yaxis.set_ticklabels([])\n",
    "ax.zaxis.set_ticklabels([])\n",
    "ax.set_xlabel(\"Petal width\")\n",
    "ax.set_ylabel(\"Sepal length\")\n",
    "ax.set_zlabel(\"Petal length\")\n",
    "ax.set_title(\"Prediction\");"
   ]
  },
  {
   "cell_type": "markdown",
   "metadata": {},
   "source": [
    "## Evaluating Clustering Accuracy and Displaying Confusion Matrix\n",
    "\n",
    "The provided code block calculates the clustering accuracy and displays the confusion matrix based on the mapped cluster labels.\n",
    "\n",
    "### Clustering Accuracy\n",
    "- The accuracy of the clustering algorithm is calculated by comparing the mapped cluster labels to the true labels.\n",
    "- The accuracy is computed as the ratio of correctly clustered data points to the total number of data points in the test set.\n",
    "- The accuracy is then printed to the console using f-strings.\n",
    "\n",
    "### Confusion Matrix Display\n",
    "- The confusion matrix provides a comprehensive visualization of the clustering performance.\n",
    "- It displays the counts of true positive, true negative, false positive, and false negative predictions for each class.\n",
    "- The confusion matrix is displayed using the `ConfusionMatrixDisplay` class from scikit-learn.\n",
    "- The display labels for the confusion matrix are specified as the target names of the Iris dataset.\n",
    "- The confusion matrix plot is rendered using Matplotlib.\n",
    "\n",
    "This code block enables a quick assessment of the clustering accuracy and provides an intuitive visualization of the clustering performance through the confusion matrix."
   ]
  },
  {
   "cell_type": "code",
   "execution_count": 239,
   "metadata": {},
   "outputs": [
    {
     "name": "stdout",
     "output_type": "stream",
     "text": [
      "Accuracy: 0.8823529411764706\n"
     ]
    },
    {
     "data": {
      "image/png": "[encoded data removed]",
      "text/plain": [
       "<Figure size 640x480 with 2 Axes>"
      ]
     },
     "metadata": {},
     "output_type": "display_data"
    }
   ],
   "source": [
    "print(f\"Accuracy: {sum(mapped_labels) / len(y_test)}\")\n",
    "conf_fig = ConfusionMatrixDisplay(c_matrix_, display_labels=iris_namemap).plot();"
   ]
  },
  {
   "cell_type": "markdown",
   "metadata": {},
   "source": [
    "<iframe src=\"https://setosa.io/ev/principal-component-analysis/\" width=\"1600\" height=\"700\"></iframe>"
   ]
  },
  {
   "cell_type": "markdown",
   "metadata": {},
   "source": [
    "## Data Preparation and Dimensionality Reduction\n",
    "\n",
    "The provided code block performs data preparation, including loading the digits dataset and applying PCA (Principal Component Analysis) for dimensionality reduction.\n",
    "\n",
    "### Loading Digits Dataset\n",
    "- The `digits` dataset is loaded using scikit-learn's `datasets.load_digits()` function.\n",
    "- This dataset contains handwritten digit images, where each image is represented as a feature vector.\n",
    "\n",
    "### PCA Dimensionality Reduction\n",
    "- PCA (Principal Component Analysis) is applied to reduce the dimensionality of the feature matrix.\n",
    "- The `PCA` class from scikit-learn is used to perform PCA with three principal components (`n_components=3`).\n",
    "- The original feature matrix (`x`) is transformed into a lower-dimensional space (`x_pca`) while retaining the most significant variance.\n",
    "\n",
    "### Data Splitting\n",
    "- The feature matrix (`x`) and its PCA-transformed counterpart (`x_pca`) are split into training and testing sets using `train_test_split`.\n",
    "- This step divides the data into training and testing subsets to assess the model's performance.\n",
    "\n",
    "This code block prepares the digits dataset for further analysis, reducing its dimensionality using PCA and splitting it into training and testing sets for model evaluation.\n"
   ]
  },
  {
   "cell_type": "code",
   "execution_count": 240,
   "metadata": {},
   "outputs": [],
   "source": [
    "colors = np.array([plt.get_cmap('viridis')(i * 1 / 9) for i in range(10)])\n",
    "\n",
    "digits = datasets.load_digits()\n",
    "pca = PCA(n_components=3)\n",
    "\n",
    "x = digits.data  # Feature matrix\n",
    "y = digits.target  # Target variable\n",
    "x_pca = pca.fit_transform(x)\n",
    "x_train, x_test, x_pca_train, x_pca_test, y_train, y_test = train_test_split(x, x_pca, y, test_size=.33, random_state=122)"
   ]
  },
  {
   "cell_type": "markdown",
   "metadata": {},
   "source": [
    "## Visualizing K-Means Clustering on Digits Dataset\n",
    "\n",
    "The provided code block visualizes the results of K-Means clustering applied to the digits dataset in a 3D scatter plot.\n",
    "\n",
    "### K-Means Clustering\n",
    "- K-Means clustering is performed on the training data with 10 clusters (`n_clusters=10`) using the `KMeans` class from scikit-learn.\n",
    "- The model is trained on the reduced-dimensional feature matrix (`x_train`) obtained through PCA.\n",
    "\n",
    "### Visualization\n",
    "- The 3D scatter plot is created using Plotly's `Scatter3d` object.\n",
    "- Each data point in the scatter plot represents a digit image transformed into a lower-dimensional space by PCA.\n",
    "- Data points are colored according to the predicted cluster labels obtained from K-Means clustering.\n",
    "- The color mapping is defined based on the predicted cluster labels and the predefined colors.\n",
    "\n",
    "### Plot Layout\n",
    "- The layout of the plot is specified using Plotly's `Layout` object.\n",
    "- The title of the plot and axis labels for the three principal components (PC1, PC2, and PC3) are defined in the layout.\n",
    "\n",
    "This visualization provides insight into how the digits are clustered in the reduced-dimensional space by K-Means clustering, facilitating the exploration of patterns and clusters within the dataset.\n"
   ]
  },
  {
   "cell_type": "code",
   "execution_count": 241,
   "metadata": {},
   "outputs": [
    {
     "data": {
      "application/vnd.plotly.v1+json": {
       "config": {
        "plotlyServerURL": "https://plot.ly"
       },
       "data": [
        {
         "marker": {
          "color": [
           [
            0.119699,
            0.61849,
            0.536347,
            1
           ],
           [
            0.244972,
            0.287675,
            0.53726,
            1
           ],
           [
            0.281412,
            0.155834,
            0.469201,
            1
           ],
           [
            0.993248,
            0.906157,
            0.143936,
            1
           ],
           [
            0.20803,
            0.718701,
            0.472873,
            1
           ],
           [
            0.20803,
            0.718701,
            0.472873,
            1
           ],
           [
            0.190631,
            0.407061,
            0.556089,
            1
           ],
           [
            0.281412,
            0.155834,
            0.469201,
            1
           ],
           [
            0.993248,
            0.906157,
            0.143936,
            1
           ],
           [
            0.993248,
            0.906157,
            0.143936,
            1
           ],
           [
            0.190631,
            0.407061,
            0.556089,
            1
           ],
           [
            0.190631,
            0.407061,
            0.556089,
            1
           ],
           [
            0.119699,
            0.61849,
            0.536347,
            1
           ],
           [
            0.281412,
            0.155834,
            0.469201,
            1
           ],
           [
            0.244972,
            0.287675,
            0.53726,
            1
           ],
           [
            0.20803,
            0.718701,
            0.472873,
            1
           ],
           [
            0.147607,
            0.511733,
            0.557049,
            1
           ],
           [
            0.147607,
            0.511733,
            0.557049,
            1
           ],
           [
            0.430983,
            0.808473,
            0.346476,
            1
           ],
           [
            0.119699,
            0.61849,
            0.536347,
            1
           ],
           [
            0.119699,
            0.61849,
            0.536347,
            1
           ],
           [
            0.267004,
            0.004874,
            0.329415,
            1
           ],
           [
            0.147607,
            0.511733,
            0.557049,
            1
           ],
           [
            0.281412,
            0.155834,
            0.469201,
            1
           ],
           [
            0.709898,
            0.868751,
            0.169257,
            1
           ],
           [
            0.267004,
            0.004874,
            0.329415,
            1
           ],
           [
            0.190631,
            0.407061,
            0.556089,
            1
           ],
           [
            0.190631,
            0.407061,
            0.556089,
            1
           ],
           [
            0.993248,
            0.906157,
            0.143936,
            1
           ],
           [
            0.244972,
            0.287675,
            0.53726,
            1
           ],
           [
            0.993248,
            0.906157,
            0.143936,
            1
           ],
           [
            0.709898,
            0.868751,
            0.169257,
            1
           ],
           [
            0.281412,
            0.155834,
            0.469201,
            1
           ],
           [
            0.20803,
            0.718701,
            0.472873,
            1
           ],
           [
            0.430983,
            0.808473,
            0.346476,
            1
           ],
           [
            0.119699,
            0.61849,
            0.536347,
            1
           ],
           [
            0.993248,
            0.906157,
            0.143936,
            1
           ],
           [
            0.993248,
            0.906157,
            0.143936,
            1
           ],
           [
            0.267004,
            0.004874,
            0.329415,
            1
           ],
           [
            0.147607,
            0.511733,
            0.557049,
            1
           ],
           [
            0.190631,
            0.407061,
            0.556089,
            1
           ],
           [
            0.709898,
            0.868751,
            0.169257,
            1
           ],
           [
            0.709898,
            0.868751,
            0.169257,
            1
           ],
           [
            0.281412,
            0.155834,
            0.469201,
            1
           ],
           [
            0.190631,
            0.407061,
            0.556089,
            1
           ],
           [
            0.119699,
            0.61849,
            0.536347,
            1
           ],
           [
            0.281412,
            0.155834,
            0.469201,
            1
           ],
           [
            0.147607,
            0.511733,
            0.557049,
            1
           ],
           [
            0.281412,
            0.155834,
            0.469201,
            1
           ],
           [
            0.993248,
            0.906157,
            0.143936,
            1
           ],
           [
            0.190631,
            0.407061,
            0.556089,
            1
           ],
           [
            0.281412,
            0.155834,
            0.469201,
            1
           ],
           [
            0.709898,
            0.868751,
            0.169257,
            1
           ],
           [
            0.244972,
            0.287675,
            0.53726,
            1
           ],
           [
            0.190631,
            0.407061,
            0.556089,
            1
           ],
           [
            0.20803,
            0.718701,
            0.472873,
            1
           ],
           [
            0.281412,
            0.155834,
            0.469201,
            1
           ],
           [
            0.190631,
            0.407061,
            0.556089,
            1
           ],
           [
            0.119699,
            0.61849,
            0.536347,
            1
           ],
           [
            0.147607,
            0.511733,
            0.557049,
            1
           ],
           [
            0.993248,
            0.906157,
            0.143936,
            1
           ],
           [
            0.709898,
            0.868751,
            0.169257,
            1
           ],
           [
            0.20803,
            0.718701,
            0.472873,
            1
           ],
           [
            0.147607,
            0.511733,
            0.557049,
            1
           ],
           [
            0.244972,
            0.287675,
            0.53726,
            1
           ],
           [
            0.267004,
            0.004874,
            0.329415,
            1
           ],
           [
            0.20803,
            0.718701,
            0.472873,
            1
           ],
           [
            0.20803,
            0.718701,
            0.472873,
            1
           ],
           [
            0.267004,
            0.004874,
            0.329415,
            1
           ],
           [
            0.430983,
            0.808473,
            0.346476,
            1
           ],
           [
            0.993248,
            0.906157,
            0.143936,
            1
           ],
           [
            0.281412,
            0.155834,
            0.469201,
            1
           ],
           [
            0.119699,
            0.61849,
            0.536347,
            1
           ],
           [
            0.709898,
            0.868751,
            0.169257,
            1
           ],
           [
            0.20803,
            0.718701,
            0.472873,
            1
           ],
           [
            0.993248,
            0.906157,
            0.143936,
            1
           ],
           [
            0.20803,
            0.718701,
            0.472873,
            1
           ],
           [
            0.244972,
            0.287675,
            0.53726,
            1
           ],
           [
            0.281412,
            0.155834,
            0.469201,
            1
           ],
           [
            0.190631,
            0.407061,
            0.556089,
            1
           ],
           [
            0.147607,
            0.511733,
            0.557049,
            1
           ],
           [
            0.709898,
            0.868751,
            0.169257,
            1
           ],
           [
            0.20803,
            0.718701,
            0.472873,
            1
           ],
           [
            0.267004,
            0.004874,
            0.329415,
            1
           ],
           [
            0.709898,
            0.868751,
            0.169257,
            1
           ],
           [
            0.20803,
            0.718701,
            0.472873,
            1
           ],
           [
            0.119699,
            0.61849,
            0.536347,
            1
           ],
           [
            0.147607,
            0.511733,
            0.557049,
            1
           ],
           [
            0.281412,
            0.155834,
            0.469201,
            1
           ],
           [
            0.147607,
            0.511733,
            0.557049,
            1
           ],
           [
            0.147607,
            0.511733,
            0.557049,
            1
           ],
           [
            0.244972,
            0.287675,
            0.53726,
            1
           ],
           [
            0.190631,
            0.407061,
            0.556089,
            1
           ],
           [
            0.267004,
            0.004874,
            0.329415,
            1
           ],
           [
            0.147607,
            0.511733,
            0.557049,
            1
           ],
           [
            0.993248,
            0.906157,
            0.143936,
            1
           ],
           [
            0.430983,
            0.808473,
            0.346476,
            1
           ],
           [
            0.147607,
            0.511733,
            0.557049,
            1
           ],
           [
            0.147607,
            0.511733,
            0.557049,
            1
           ],
           [
            0.281412,
            0.155834,
            0.469201,
            1
           ],
           [
            0.20803,
            0.718701,
            0.472873,
            1
           ],
           [
            0.147607,
            0.511733,
            0.557049,
            1
           ],
           [
            0.244972,
            0.287675,
            0.53726,
            1
           ],
           [
            0.709898,
            0.868751,
            0.169257,
            1
           ],
           [
            0.119699,
            0.61849,
            0.536347,
            1
           ],
           [
            0.119699,
            0.61849,
            0.536347,
            1
           ],
           [
            0.244972,
            0.287675,
            0.53726,
            1
           ],
           [
            0.119699,
            0.61849,
            0.536347,
            1
           ],
           [
            0.993248,
            0.906157,
            0.143936,
            1
           ],
           [
            0.190631,
            0.407061,
            0.556089,
            1
           ],
           [
            0.20803,
            0.718701,
            0.472873,
            1
           ],
           [
            0.119699,
            0.61849,
            0.536347,
            1
           ],
           [
            0.20803,
            0.718701,
            0.472873,
            1
           ],
           [
            0.119699,
            0.61849,
            0.536347,
            1
           ],
           [
            0.709898,
            0.868751,
            0.169257,
            1
           ],
           [
            0.147607,
            0.511733,
            0.557049,
            1
           ],
           [
            0.709898,
            0.868751,
            0.169257,
            1
           ],
           [
            0.281412,
            0.155834,
            0.469201,
            1
           ],
           [
            0.20803,
            0.718701,
            0.472873,
            1
           ],
           [
            0.119699,
            0.61849,
            0.536347,
            1
           ],
           [
            0.190631,
            0.407061,
            0.556089,
            1
           ],
           [
            0.119699,
            0.61849,
            0.536347,
            1
           ],
           [
            0.281412,
            0.155834,
            0.469201,
            1
           ],
           [
            0.430983,
            0.808473,
            0.346476,
            1
           ],
           [
            0.20803,
            0.718701,
            0.472873,
            1
           ],
           [
            0.267004,
            0.004874,
            0.329415,
            1
           ],
           [
            0.147607,
            0.511733,
            0.557049,
            1
           ],
           [
            0.709898,
            0.868751,
            0.169257,
            1
           ],
           [
            0.267004,
            0.004874,
            0.329415,
            1
           ],
           [
            0.709898,
            0.868751,
            0.169257,
            1
           ],
           [
            0.244972,
            0.287675,
            0.53726,
            1
           ],
           [
            0.430983,
            0.808473,
            0.346476,
            1
           ],
           [
            0.993248,
            0.906157,
            0.143936,
            1
           ],
           [
            0.430983,
            0.808473,
            0.346476,
            1
           ],
           [
            0.267004,
            0.004874,
            0.329415,
            1
           ],
           [
            0.709898,
            0.868751,
            0.169257,
            1
           ],
           [
            0.20803,
            0.718701,
            0.472873,
            1
           ],
           [
            0.281412,
            0.155834,
            0.469201,
            1
           ],
           [
            0.709898,
            0.868751,
            0.169257,
            1
           ],
           [
            0.993248,
            0.906157,
            0.143936,
            1
           ],
           [
            0.147607,
            0.511733,
            0.557049,
            1
           ],
           [
            0.20803,
            0.718701,
            0.472873,
            1
           ],
           [
            0.993248,
            0.906157,
            0.143936,
            1
           ],
           [
            0.147607,
            0.511733,
            0.557049,
            1
           ],
           [
            0.147607,
            0.511733,
            0.557049,
            1
           ],
           [
            0.281412,
            0.155834,
            0.469201,
            1
           ],
           [
            0.119699,
            0.61849,
            0.536347,
            1
           ],
           [
            0.993248,
            0.906157,
            0.143936,
            1
           ],
           [
            0.430983,
            0.808473,
            0.346476,
            1
           ],
           [
            0.281412,
            0.155834,
            0.469201,
            1
           ],
           [
            0.147607,
            0.511733,
            0.557049,
            1
           ],
           [
            0.147607,
            0.511733,
            0.557049,
            1
           ],
           [
            0.244972,
            0.287675,
            0.53726,
            1
           ],
           [
            0.119699,
            0.61849,
            0.536347,
            1
           ],
           [
            0.190631,
            0.407061,
            0.556089,
            1
           ],
           [
            0.281412,
            0.155834,
            0.469201,
            1
           ],
           [
            0.20803,
            0.718701,
            0.472873,
            1
           ],
           [
            0.281412,
            0.155834,
            0.469201,
            1
           ],
           [
            0.281412,
            0.155834,
            0.469201,
            1
           ],
           [
            0.119699,
            0.61849,
            0.536347,
            1
           ],
           [
            0.147607,
            0.511733,
            0.557049,
            1
           ],
           [
            0.190631,
            0.407061,
            0.556089,
            1
           ],
           [
            0.430983,
            0.808473,
            0.346476,
            1
           ],
           [
            0.267004,
            0.004874,
            0.329415,
            1
           ],
           [
            0.993248,
            0.906157,
            0.143936,
            1
           ],
           [
            0.190631,
            0.407061,
            0.556089,
            1
           ],
           [
            0.190631,
            0.407061,
            0.556089,
            1
           ],
           [
            0.709898,
            0.868751,
            0.169257,
            1
           ],
           [
            0.430983,
            0.808473,
            0.346476,
            1
           ],
           [
            0.244972,
            0.287675,
            0.53726,
            1
           ],
           [
            0.281412,
            0.155834,
            0.469201,
            1
           ],
           [
            0.993248,
            0.906157,
            0.143936,
            1
           ],
           [
            0.993248,
            0.906157,
            0.143936,
            1
           ],
           [
            0.244972,
            0.287675,
            0.53726,
            1
           ],
           [
            0.190631,
            0.407061,
            0.556089,
            1
           ],
           [
            0.119699,
            0.61849,
            0.536347,
            1
           ],
           [
            0.244972,
            0.287675,
            0.53726,
            1
           ],
           [
            0.190631,
            0.407061,
            0.556089,
            1
           ],
           [
            0.281412,
            0.155834,
            0.469201,
            1
           ],
           [
            0.147607,
            0.511733,
            0.557049,
            1
           ],
           [
            0.244972,
            0.287675,
            0.53726,
            1
           ],
           [
            0.20803,
            0.718701,
            0.472873,
            1
           ],
           [
            0.244972,
            0.287675,
            0.53726,
            1
           ],
           [
            0.993248,
            0.906157,
            0.143936,
            1
           ],
           [
            0.244972,
            0.287675,
            0.53726,
            1
           ],
           [
            0.20803,
            0.718701,
            0.472873,
            1
           ],
           [
            0.147607,
            0.511733,
            0.557049,
            1
           ],
           [
            0.190631,
            0.407061,
            0.556089,
            1
           ],
           [
            0.281412,
            0.155834,
            0.469201,
            1
           ],
           [
            0.709898,
            0.868751,
            0.169257,
            1
           ],
           [
            0.993248,
            0.906157,
            0.143936,
            1
           ],
           [
            0.267004,
            0.004874,
            0.329415,
            1
           ],
           [
            0.147607,
            0.511733,
            0.557049,
            1
           ],
           [
            0.147607,
            0.511733,
            0.557049,
            1
           ],
           [
            0.281412,
            0.155834,
            0.469201,
            1
           ],
           [
            0.190631,
            0.407061,
            0.556089,
            1
           ],
           [
            0.190631,
            0.407061,
            0.556089,
            1
           ],
           [
            0.993248,
            0.906157,
            0.143936,
            1
           ],
           [
            0.267004,
            0.004874,
            0.329415,
            1
           ],
           [
            0.993248,
            0.906157,
            0.143936,
            1
           ],
           [
            0.244972,
            0.287675,
            0.53726,
            1
           ],
           [
            0.20803,
            0.718701,
            0.472873,
            1
           ],
           [
            0.267004,
            0.004874,
            0.329415,
            1
           ],
           [
            0.190631,
            0.407061,
            0.556089,
            1
           ],
           [
            0.267004,
            0.004874,
            0.329415,
            1
           ],
           [
            0.430983,
            0.808473,
            0.346476,
            1
           ],
           [
            0.709898,
            0.868751,
            0.169257,
            1
           ],
           [
            0.430983,
            0.808473,
            0.346476,
            1
           ],
           [
            0.267004,
            0.004874,
            0.329415,
            1
           ],
           [
            0.993248,
            0.906157,
            0.143936,
            1
           ],
           [
            0.190631,
            0.407061,
            0.556089,
            1
           ],
           [
            0.244972,
            0.287675,
            0.53726,
            1
           ],
           [
            0.20803,
            0.718701,
            0.472873,
            1
           ],
           [
            0.147607,
            0.511733,
            0.557049,
            1
           ],
           [
            0.147607,
            0.511733,
            0.557049,
            1
           ],
           [
            0.119699,
            0.61849,
            0.536347,
            1
           ],
           [
            0.993248,
            0.906157,
            0.143936,
            1
           ],
           [
            0.20803,
            0.718701,
            0.472873,
            1
           ],
           [
            0.709898,
            0.868751,
            0.169257,
            1
           ],
           [
            0.993248,
            0.906157,
            0.143936,
            1
           ],
           [
            0.993248,
            0.906157,
            0.143936,
            1
           ],
           [
            0.709898,
            0.868751,
            0.169257,
            1
           ],
           [
            0.281412,
            0.155834,
            0.469201,
            1
           ],
           [
            0.709898,
            0.868751,
            0.169257,
            1
           ],
           [
            0.709898,
            0.868751,
            0.169257,
            1
           ],
           [
            0.993248,
            0.906157,
            0.143936,
            1
           ],
           [
            0.190631,
            0.407061,
            0.556089,
            1
           ],
           [
            0.993248,
            0.906157,
            0.143936,
            1
           ],
           [
            0.20803,
            0.718701,
            0.472873,
            1
           ],
           [
            0.20803,
            0.718701,
            0.472873,
            1
           ],
           [
            0.119699,
            0.61849,
            0.536347,
            1
           ],
           [
            0.244972,
            0.287675,
            0.53726,
            1
           ],
           [
            0.267004,
            0.004874,
            0.329415,
            1
           ],
           [
            0.147607,
            0.511733,
            0.557049,
            1
           ],
           [
            0.993248,
            0.906157,
            0.143936,
            1
           ],
           [
            0.147607,
            0.511733,
            0.557049,
            1
           ],
           [
            0.709898,
            0.868751,
            0.169257,
            1
           ],
           [
            0.244972,
            0.287675,
            0.53726,
            1
           ],
           [
            0.993248,
            0.906157,
            0.143936,
            1
           ],
           [
            0.119699,
            0.61849,
            0.536347,
            1
           ],
           [
            0.20803,
            0.718701,
            0.472873,
            1
           ],
           [
            0.993248,
            0.906157,
            0.143936,
            1
           ],
           [
            0.190631,
            0.407061,
            0.556089,
            1
           ],
           [
            0.190631,
            0.407061,
            0.556089,
            1
           ],
           [
            0.20803,
            0.718701,
            0.472873,
            1
           ],
           [
            0.119699,
            0.61849,
            0.536347,
            1
           ],
           [
            0.244972,
            0.287675,
            0.53726,
            1
           ],
           [
            0.119699,
            0.61849,
            0.536347,
            1
           ],
           [
            0.244972,
            0.287675,
            0.53726,
            1
           ],
           [
            0.20803,
            0.718701,
            0.472873,
            1
           ],
           [
            0.20803,
            0.718701,
            0.472873,
            1
           ],
           [
            0.20803,
            0.718701,
            0.472873,
            1
           ],
           [
            0.267004,
            0.004874,
            0.329415,
            1
           ],
           [
            0.281412,
            0.155834,
            0.469201,
            1
           ],
           [
            0.244972,
            0.287675,
            0.53726,
            1
           ],
           [
            0.147607,
            0.511733,
            0.557049,
            1
           ],
           [
            0.119699,
            0.61849,
            0.536347,
            1
           ],
           [
            0.20803,
            0.718701,
            0.472873,
            1
           ],
           [
            0.267004,
            0.004874,
            0.329415,
            1
           ],
           [
            0.20803,
            0.718701,
            0.472873,
            1
           ],
           [
            0.119699,
            0.61849,
            0.536347,
            1
           ],
           [
            0.119699,
            0.61849,
            0.536347,
            1
           ],
           [
            0.281412,
            0.155834,
            0.469201,
            1
           ],
           [
            0.147607,
            0.511733,
            0.557049,
            1
           ],
           [
            0.190631,
            0.407061,
            0.556089,
            1
           ],
           [
            0.244972,
            0.287675,
            0.53726,
            1
           ],
           [
            0.993248,
            0.906157,
            0.143936,
            1
           ],
           [
            0.267004,
            0.004874,
            0.329415,
            1
           ],
           [
            0.20803,
            0.718701,
            0.472873,
            1
           ],
           [
            0.20803,
            0.718701,
            0.472873,
            1
           ],
           [
            0.20803,
            0.718701,
            0.472873,
            1
           ],
           [
            0.190631,
            0.407061,
            0.556089,
            1
           ],
           [
            0.993248,
            0.906157,
            0.143936,
            1
           ],
           [
            0.267004,
            0.004874,
            0.329415,
            1
           ],
           [
            0.709898,
            0.868751,
            0.169257,
            1
           ],
           [
            0.993248,
            0.906157,
            0.143936,
            1
           ],
           [
            0.20803,
            0.718701,
            0.472873,
            1
           ],
           [
            0.267004,
            0.004874,
            0.329415,
            1
           ],
           [
            0.993248,
            0.906157,
            0.143936,
            1
           ],
           [
            0.20803,
            0.718701,
            0.472873,
            1
           ],
           [
            0.267004,
            0.004874,
            0.329415,
            1
           ],
           [
            0.281412,
            0.155834,
            0.469201,
            1
           ],
           [
            0.20803,
            0.718701,
            0.472873,
            1
           ],
           [
            0.190631,
            0.407061,
            0.556089,
            1
           ],
           [
            0.190631,
            0.407061,
            0.556089,
            1
           ],
           [
            0.147607,
            0.511733,
            0.557049,
            1
           ],
           [
            0.190631,
            0.407061,
            0.556089,
            1
           ],
           [
            0.190631,
            0.407061,
            0.556089,
            1
           ],
           [
            0.20803,
            0.718701,
            0.472873,
            1
           ],
           [
            0.993248,
            0.906157,
            0.143936,
            1
           ],
           [
            0.709898,
            0.868751,
            0.169257,
            1
           ],
           [
            0.993248,
            0.906157,
            0.143936,
            1
           ],
           [
            0.190631,
            0.407061,
            0.556089,
            1
           ],
           [
            0.147607,
            0.511733,
            0.557049,
            1
           ],
           [
            0.267004,
            0.004874,
            0.329415,
            1
           ],
           [
            0.281412,
            0.155834,
            0.469201,
            1
           ],
           [
            0.244972,
            0.287675,
            0.53726,
            1
           ],
           [
            0.709898,
            0.868751,
            0.169257,
            1
           ],
           [
            0.20803,
            0.718701,
            0.472873,
            1
           ],
           [
            0.244972,
            0.287675,
            0.53726,
            1
           ],
           [
            0.281412,
            0.155834,
            0.469201,
            1
           ],
           [
            0.281412,
            0.155834,
            0.469201,
            1
           ],
           [
            0.709898,
            0.868751,
            0.169257,
            1
           ],
           [
            0.147607,
            0.511733,
            0.557049,
            1
           ],
           [
            0.244972,
            0.287675,
            0.53726,
            1
           ],
           [
            0.281412,
            0.155834,
            0.469201,
            1
           ],
           [
            0.119699,
            0.61849,
            0.536347,
            1
           ],
           [
            0.244972,
            0.287675,
            0.53726,
            1
           ],
           [
            0.20803,
            0.718701,
            0.472873,
            1
           ],
           [
            0.119699,
            0.61849,
            0.536347,
            1
           ],
           [
            0.709898,
            0.868751,
            0.169257,
            1
           ],
           [
            0.281412,
            0.155834,
            0.469201,
            1
           ],
           [
            0.119699,
            0.61849,
            0.536347,
            1
           ],
           [
            0.267004,
            0.004874,
            0.329415,
            1
           ],
           [
            0.281412,
            0.155834,
            0.469201,
            1
           ],
           [
            0.993248,
            0.906157,
            0.143936,
            1
           ],
           [
            0.119699,
            0.61849,
            0.536347,
            1
           ],
           [
            0.190631,
            0.407061,
            0.556089,
            1
           ],
           [
            0.190631,
            0.407061,
            0.556089,
            1
           ],
           [
            0.119699,
            0.61849,
            0.536347,
            1
           ],
           [
            0.119699,
            0.61849,
            0.536347,
            1
           ],
           [
            0.119699,
            0.61849,
            0.536347,
            1
           ],
           [
            0.244972,
            0.287675,
            0.53726,
            1
           ],
           [
            0.20803,
            0.718701,
            0.472873,
            1
           ],
           [
            0.281412,
            0.155834,
            0.469201,
            1
           ],
           [
            0.281412,
            0.155834,
            0.469201,
            1
           ],
           [
            0.190631,
            0.407061,
            0.556089,
            1
           ],
           [
            0.119699,
            0.61849,
            0.536347,
            1
           ],
           [
            0.709898,
            0.868751,
            0.169257,
            1
           ],
           [
            0.190631,
            0.407061,
            0.556089,
            1
           ],
           [
            0.119699,
            0.61849,
            0.536347,
            1
           ],
           [
            0.267004,
            0.004874,
            0.329415,
            1
           ],
           [
            0.119699,
            0.61849,
            0.536347,
            1
           ],
           [
            0.119699,
            0.61849,
            0.536347,
            1
           ],
           [
            0.190631,
            0.407061,
            0.556089,
            1
           ],
           [
            0.709898,
            0.868751,
            0.169257,
            1
           ],
           [
            0.244972,
            0.287675,
            0.53726,
            1
           ],
           [
            0.430983,
            0.808473,
            0.346476,
            1
           ],
           [
            0.281412,
            0.155834,
            0.469201,
            1
           ],
           [
            0.20803,
            0.718701,
            0.472873,
            1
           ],
           [
            0.147607,
            0.511733,
            0.557049,
            1
           ],
           [
            0.20803,
            0.718701,
            0.472873,
            1
           ],
           [
            0.20803,
            0.718701,
            0.472873,
            1
           ],
           [
            0.190631,
            0.407061,
            0.556089,
            1
           ],
           [
            0.190631,
            0.407061,
            0.556089,
            1
           ],
           [
            0.709898,
            0.868751,
            0.169257,
            1
           ],
           [
            0.709898,
            0.868751,
            0.169257,
            1
           ],
           [
            0.244972,
            0.287675,
            0.53726,
            1
           ],
           [
            0.993248,
            0.906157,
            0.143936,
            1
           ],
           [
            0.993248,
            0.906157,
            0.143936,
            1
           ],
           [
            0.430983,
            0.808473,
            0.346476,
            1
           ],
           [
            0.190631,
            0.407061,
            0.556089,
            1
           ],
           [
            0.119699,
            0.61849,
            0.536347,
            1
           ],
           [
            0.119699,
            0.61849,
            0.536347,
            1
           ],
           [
            0.20803,
            0.718701,
            0.472873,
            1
           ],
           [
            0.147607,
            0.511733,
            0.557049,
            1
           ],
           [
            0.281412,
            0.155834,
            0.469201,
            1
           ],
           [
            0.190631,
            0.407061,
            0.556089,
            1
           ],
           [
            0.20803,
            0.718701,
            0.472873,
            1
           ],
           [
            0.281412,
            0.155834,
            0.469201,
            1
           ],
           [
            0.244972,
            0.287675,
            0.53726,
            1
           ],
           [
            0.709898,
            0.868751,
            0.169257,
            1
           ],
           [
            0.119699,
            0.61849,
            0.536347,
            1
           ],
           [
            0.20803,
            0.718701,
            0.472873,
            1
           ],
           [
            0.709898,
            0.868751,
            0.169257,
            1
           ],
           [
            0.190631,
            0.407061,
            0.556089,
            1
           ],
           [
            0.993248,
            0.906157,
            0.143936,
            1
           ],
           [
            0.147607,
            0.511733,
            0.557049,
            1
           ],
           [
            0.119699,
            0.61849,
            0.536347,
            1
           ],
           [
            0.244972,
            0.287675,
            0.53726,
            1
           ],
           [
            0.281412,
            0.155834,
            0.469201,
            1
           ],
           [
            0.993248,
            0.906157,
            0.143936,
            1
           ],
           [
            0.709898,
            0.868751,
            0.169257,
            1
           ],
           [
            0.244972,
            0.287675,
            0.53726,
            1
           ],
           [
            0.20803,
            0.718701,
            0.472873,
            1
           ],
           [
            0.190631,
            0.407061,
            0.556089,
            1
           ],
           [
            0.147607,
            0.511733,
            0.557049,
            1
           ],
           [
            0.281412,
            0.155834,
            0.469201,
            1
           ],
           [
            0.993248,
            0.906157,
            0.143936,
            1
           ],
           [
            0.267004,
            0.004874,
            0.329415,
            1
           ],
           [
            0.147607,
            0.511733,
            0.557049,
            1
           ],
           [
            0.993248,
            0.906157,
            0.143936,
            1
           ],
           [
            0.993248,
            0.906157,
            0.143936,
            1
           ],
           [
            0.430983,
            0.808473,
            0.346476,
            1
           ],
           [
            0.281412,
            0.155834,
            0.469201,
            1
           ],
           [
            0.147607,
            0.511733,
            0.557049,
            1
           ],
           [
            0.190631,
            0.407061,
            0.556089,
            1
           ],
           [
            0.709898,
            0.868751,
            0.169257,
            1
           ],
           [
            0.281412,
            0.155834,
            0.469201,
            1
           ],
           [
            0.267004,
            0.004874,
            0.329415,
            1
           ],
           [
            0.281412,
            0.155834,
            0.469201,
            1
           ],
           [
            0.119699,
            0.61849,
            0.536347,
            1
           ],
           [
            0.147607,
            0.511733,
            0.557049,
            1
           ],
           [
            0.20803,
            0.718701,
            0.472873,
            1
           ],
           [
            0.709898,
            0.868751,
            0.169257,
            1
           ],
           [
            0.119699,
            0.61849,
            0.536347,
            1
           ],
           [
            0.20803,
            0.718701,
            0.472873,
            1
           ],
           [
            0.281412,
            0.155834,
            0.469201,
            1
           ],
           [
            0.709898,
            0.868751,
            0.169257,
            1
           ],
           [
            0.190631,
            0.407061,
            0.556089,
            1
           ],
           [
            0.709898,
            0.868751,
            0.169257,
            1
           ],
           [
            0.190631,
            0.407061,
            0.556089,
            1
           ],
           [
            0.281412,
            0.155834,
            0.469201,
            1
           ],
           [
            0.430983,
            0.808473,
            0.346476,
            1
           ],
           [
            0.267004,
            0.004874,
            0.329415,
            1
           ],
           [
            0.267004,
            0.004874,
            0.329415,
            1
           ],
           [
            0.119699,
            0.61849,
            0.536347,
            1
           ],
           [
            0.147607,
            0.511733,
            0.557049,
            1
           ],
           [
            0.267004,
            0.004874,
            0.329415,
            1
           ],
           [
            0.281412,
            0.155834,
            0.469201,
            1
           ],
           [
            0.281412,
            0.155834,
            0.469201,
            1
           ],
           [
            0.119699,
            0.61849,
            0.536347,
            1
           ],
           [
            0.709898,
            0.868751,
            0.169257,
            1
           ],
           [
            0.709898,
            0.868751,
            0.169257,
            1
           ],
           [
            0.119699,
            0.61849,
            0.536347,
            1
           ],
           [
            0.709898,
            0.868751,
            0.169257,
            1
           ],
           [
            0.244972,
            0.287675,
            0.53726,
            1
           ],
           [
            0.709898,
            0.868751,
            0.169257,
            1
           ],
           [
            0.190631,
            0.407061,
            0.556089,
            1
           ],
           [
            0.190631,
            0.407061,
            0.556089,
            1
           ],
           [
            0.993248,
            0.906157,
            0.143936,
            1
           ],
           [
            0.244972,
            0.287675,
            0.53726,
            1
           ],
           [
            0.190631,
            0.407061,
            0.556089,
            1
           ],
           [
            0.993248,
            0.906157,
            0.143936,
            1
           ],
           [
            0.190631,
            0.407061,
            0.556089,
            1
           ],
           [
            0.267004,
            0.004874,
            0.329415,
            1
           ],
           [
            0.709898,
            0.868751,
            0.169257,
            1
           ],
           [
            0.709898,
            0.868751,
            0.169257,
            1
           ],
           [
            0.993248,
            0.906157,
            0.143936,
            1
           ],
           [
            0.709898,
            0.868751,
            0.169257,
            1
           ],
           [
            0.244972,
            0.287675,
            0.53726,
            1
           ],
           [
            0.20803,
            0.718701,
            0.472873,
            1
           ],
           [
            0.190631,
            0.407061,
            0.556089,
            1
           ],
           [
            0.119699,
            0.61849,
            0.536347,
            1
           ],
           [
            0.709898,
            0.868751,
            0.169257,
            1
           ],
           [
            0.147607,
            0.511733,
            0.557049,
            1
           ],
           [
            0.20803,
            0.718701,
            0.472873,
            1
           ],
           [
            0.993248,
            0.906157,
            0.143936,
            1
           ],
           [
            0.119699,
            0.61849,
            0.536347,
            1
           ],
           [
            0.709898,
            0.868751,
            0.169257,
            1
           ],
           [
            0.20803,
            0.718701,
            0.472873,
            1
           ],
           [
            0.20803,
            0.718701,
            0.472873,
            1
           ],
           [
            0.20803,
            0.718701,
            0.472873,
            1
           ],
           [
            0.119699,
            0.61849,
            0.536347,
            1
           ],
           [
            0.190631,
            0.407061,
            0.556089,
            1
           ],
           [
            0.147607,
            0.511733,
            0.557049,
            1
           ],
           [
            0.119699,
            0.61849,
            0.536347,
            1
           ],
           [
            0.147607,
            0.511733,
            0.557049,
            1
           ],
           [
            0.267004,
            0.004874,
            0.329415,
            1
           ],
           [
            0.190631,
            0.407061,
            0.556089,
            1
           ],
           [
            0.281412,
            0.155834,
            0.469201,
            1
           ],
           [
            0.20803,
            0.718701,
            0.472873,
            1
           ],
           [
            0.267004,
            0.004874,
            0.329415,
            1
           ],
           [
            0.993248,
            0.906157,
            0.143936,
            1
           ],
           [
            0.267004,
            0.004874,
            0.329415,
            1
           ],
           [
            0.147607,
            0.511733,
            0.557049,
            1
           ],
           [
            0.709898,
            0.868751,
            0.169257,
            1
           ],
           [
            0.993248,
            0.906157,
            0.143936,
            1
           ],
           [
            0.244972,
            0.287675,
            0.53726,
            1
           ],
           [
            0.281412,
            0.155834,
            0.469201,
            1
           ],
           [
            0.267004,
            0.004874,
            0.329415,
            1
           ],
           [
            0.119699,
            0.61849,
            0.536347,
            1
           ],
           [
            0.430983,
            0.808473,
            0.346476,
            1
           ],
           [
            0.709898,
            0.868751,
            0.169257,
            1
           ],
           [
            0.147607,
            0.511733,
            0.557049,
            1
           ],
           [
            0.20803,
            0.718701,
            0.472873,
            1
           ],
           [
            0.267004,
            0.004874,
            0.329415,
            1
           ],
           [
            0.244972,
            0.287675,
            0.53726,
            1
           ],
           [
            0.430983,
            0.808473,
            0.346476,
            1
           ],
           [
            0.119699,
            0.61849,
            0.536347,
            1
           ],
           [
            0.119699,
            0.61849,
            0.536347,
            1
           ],
           [
            0.993248,
            0.906157,
            0.143936,
            1
           ],
           [
            0.993248,
            0.906157,
            0.143936,
            1
           ],
           [
            0.267004,
            0.004874,
            0.329415,
            1
           ],
           [
            0.267004,
            0.004874,
            0.329415,
            1
           ],
           [
            0.267004,
            0.004874,
            0.329415,
            1
           ],
           [
            0.190631,
            0.407061,
            0.556089,
            1
           ],
           [
            0.20803,
            0.718701,
            0.472873,
            1
           ],
           [
            0.20803,
            0.718701,
            0.472873,
            1
           ],
           [
            0.267004,
            0.004874,
            0.329415,
            1
           ],
           [
            0.430983,
            0.808473,
            0.346476,
            1
           ],
           [
            0.20803,
            0.718701,
            0.472873,
            1
           ],
           [
            0.20803,
            0.718701,
            0.472873,
            1
           ],
           [
            0.281412,
            0.155834,
            0.469201,
            1
           ],
           [
            0.993248,
            0.906157,
            0.143936,
            1
           ],
           [
            0.430983,
            0.808473,
            0.346476,
            1
           ],
           [
            0.244972,
            0.287675,
            0.53726,
            1
           ],
           [
            0.20803,
            0.718701,
            0.472873,
            1
           ],
           [
            0.20803,
            0.718701,
            0.472873,
            1
           ],
           [
            0.993248,
            0.906157,
            0.143936,
            1
           ],
           [
            0.147607,
            0.511733,
            0.557049,
            1
           ],
           [
            0.244972,
            0.287675,
            0.53726,
            1
           ],
           [
            0.190631,
            0.407061,
            0.556089,
            1
           ],
           [
            0.147607,
            0.511733,
            0.557049,
            1
           ],
           [
            0.267004,
            0.004874,
            0.329415,
            1
           ],
           [
            0.190631,
            0.407061,
            0.556089,
            1
           ],
           [
            0.244972,
            0.287675,
            0.53726,
            1
           ],
           [
            0.20803,
            0.718701,
            0.472873,
            1
           ],
           [
            0.20803,
            0.718701,
            0.472873,
            1
           ],
           [
            0.709898,
            0.868751,
            0.169257,
            1
           ],
           [
            0.430983,
            0.808473,
            0.346476,
            1
           ],
           [
            0.244972,
            0.287675,
            0.53726,
            1
           ],
           [
            0.20803,
            0.718701,
            0.472873,
            1
           ],
           [
            0.993248,
            0.906157,
            0.143936,
            1
           ],
           [
            0.993248,
            0.906157,
            0.143936,
            1
           ],
           [
            0.281412,
            0.155834,
            0.469201,
            1
           ],
           [
            0.281412,
            0.155834,
            0.469201,
            1
           ],
           [
            0.190631,
            0.407061,
            0.556089,
            1
           ],
           [
            0.190631,
            0.407061,
            0.556089,
            1
           ],
           [
            0.147607,
            0.511733,
            0.557049,
            1
           ],
           [
            0.709898,
            0.868751,
            0.169257,
            1
           ],
           [
            0.267004,
            0.004874,
            0.329415,
            1
           ],
           [
            0.190631,
            0.407061,
            0.556089,
            1
           ],
           [
            0.267004,
            0.004874,
            0.329415,
            1
           ],
           [
            0.119699,
            0.61849,
            0.536347,
            1
           ],
           [
            0.993248,
            0.906157,
            0.143936,
            1
           ],
           [
            0.190631,
            0.407061,
            0.556089,
            1
           ],
           [
            0.20803,
            0.718701,
            0.472873,
            1
           ],
           [
            0.244972,
            0.287675,
            0.53726,
            1
           ],
           [
            0.281412,
            0.155834,
            0.469201,
            1
           ],
           [
            0.119699,
            0.61849,
            0.536347,
            1
           ],
           [
            0.430983,
            0.808473,
            0.346476,
            1
           ],
           [
            0.993248,
            0.906157,
            0.143936,
            1
           ],
           [
            0.190631,
            0.407061,
            0.556089,
            1
           ],
           [
            0.709898,
            0.868751,
            0.169257,
            1
           ],
           [
            0.244972,
            0.287675,
            0.53726,
            1
           ],
           [
            0.709898,
            0.868751,
            0.169257,
            1
           ],
           [
            0.147607,
            0.511733,
            0.557049,
            1
           ],
           [
            0.20803,
            0.718701,
            0.472873,
            1
           ],
           [
            0.281412,
            0.155834,
            0.469201,
            1
           ],
           [
            0.281412,
            0.155834,
            0.469201,
            1
           ],
           [
            0.281412,
            0.155834,
            0.469201,
            1
           ],
           [
            0.993248,
            0.906157,
            0.143936,
            1
           ],
           [
            0.709898,
            0.868751,
            0.169257,
            1
           ],
           [
            0.267004,
            0.004874,
            0.329415,
            1
           ],
           [
            0.993248,
            0.906157,
            0.143936,
            1
           ],
           [
            0.281412,
            0.155834,
            0.469201,
            1
           ],
           [
            0.709898,
            0.868751,
            0.169257,
            1
           ],
           [
            0.267004,
            0.004874,
            0.329415,
            1
           ],
           [
            0.244972,
            0.287675,
            0.53726,
            1
           ],
           [
            0.147607,
            0.511733,
            0.557049,
            1
           ],
           [
            0.20803,
            0.718701,
            0.472873,
            1
           ],
           [
            0.190631,
            0.407061,
            0.556089,
            1
           ],
           [
            0.20803,
            0.718701,
            0.472873,
            1
           ],
           [
            0.993248,
            0.906157,
            0.143936,
            1
           ],
           [
            0.20803,
            0.718701,
            0.472873,
            1
           ],
           [
            0.430983,
            0.808473,
            0.346476,
            1
           ],
           [
            0.190631,
            0.407061,
            0.556089,
            1
           ],
           [
            0.267004,
            0.004874,
            0.329415,
            1
           ],
           [
            0.709898,
            0.868751,
            0.169257,
            1
           ],
           [
            0.119699,
            0.61849,
            0.536347,
            1
           ],
           [
            0.709898,
            0.868751,
            0.169257,
            1
           ],
           [
            0.119699,
            0.61849,
            0.536347,
            1
           ],
           [
            0.993248,
            0.906157,
            0.143936,
            1
           ],
           [
            0.281412,
            0.155834,
            0.469201,
            1
           ],
           [
            0.993248,
            0.906157,
            0.143936,
            1
           ],
           [
            0.709898,
            0.868751,
            0.169257,
            1
           ],
           [
            0.244972,
            0.287675,
            0.53726,
            1
           ],
           [
            0.20803,
            0.718701,
            0.472873,
            1
           ],
           [
            0.267004,
            0.004874,
            0.329415,
            1
           ],
           [
            0.244972,
            0.287675,
            0.53726,
            1
           ],
           [
            0.244972,
            0.287675,
            0.53726,
            1
           ],
           [
            0.20803,
            0.718701,
            0.472873,
            1
           ],
           [
            0.281412,
            0.155834,
            0.469201,
            1
           ],
           [
            0.147607,
            0.511733,
            0.557049,
            1
           ],
           [
            0.119699,
            0.61849,
            0.536347,
            1
           ],
           [
            0.244972,
            0.287675,
            0.53726,
            1
           ],
           [
            0.119699,
            0.61849,
            0.536347,
            1
           ],
           [
            0.709898,
            0.868751,
            0.169257,
            1
           ],
           [
            0.244972,
            0.287675,
            0.53726,
            1
           ],
           [
            0.281412,
            0.155834,
            0.469201,
            1
           ],
           [
            0.281412,
            0.155834,
            0.469201,
            1
           ],
           [
            0.281412,
            0.155834,
            0.469201,
            1
           ],
           [
            0.190631,
            0.407061,
            0.556089,
            1
           ],
           [
            0.430983,
            0.808473,
            0.346476,
            1
           ],
           [
            0.147607,
            0.511733,
            0.557049,
            1
           ],
           [
            0.281412,
            0.155834,
            0.469201,
            1
           ],
           [
            0.147607,
            0.511733,
            0.557049,
            1
           ],
           [
            0.709898,
            0.868751,
            0.169257,
            1
           ],
           [
            0.281412,
            0.155834,
            0.469201,
            1
           ],
           [
            0.190631,
            0.407061,
            0.556089,
            1
           ],
           [
            0.281412,
            0.155834,
            0.469201,
            1
           ],
           [
            0.147607,
            0.511733,
            0.557049,
            1
           ],
           [
            0.20803,
            0.718701,
            0.472873,
            1
           ],
           [
            0.20803,
            0.718701,
            0.472873,
            1
           ],
           [
            0.190631,
            0.407061,
            0.556089,
            1
           ],
           [
            0.993248,
            0.906157,
            0.143936,
            1
           ],
           [
            0.993248,
            0.906157,
            0.143936,
            1
           ],
           [
            0.244972,
            0.287675,
            0.53726,
            1
           ],
           [
            0.993248,
            0.906157,
            0.143936,
            1
           ],
           [
            0.20803,
            0.718701,
            0.472873,
            1
           ],
           [
            0.244972,
            0.287675,
            0.53726,
            1
           ],
           [
            0.267004,
            0.004874,
            0.329415,
            1
           ],
           [
            0.190631,
            0.407061,
            0.556089,
            1
           ]
          ],
          "opacity": 0.8,
          "size": 4
         },
         "mode": "markers",
         "name": "data",
         "type": "scatter3d",
         "x": [
          16.13382165664107,
          -7.522379912679074,
          16.51751142424008,
          -6.0911010585696,
          -0.7710644099515678,
          5.753320779844944,
          -14.606627339646677,
          16.558491444909873,
          -8.883613897867509,
          0.778655285839818,
          -21.72797100621295,
          -11.949692595287997,
          9.724210358567191,
          11.250622993643306,
          -2.952611110109513,
          2.017146590992928,
          -7.893973209766134,
          -0.25197089627299046,
          -4.032784114398099,
          17.53876803839232,
          27.522980084013287,
          -16.628639496477867,
          -11.438993432640165,
          18.00501782769934,
          14.345824073828581,
          -18.681261076239675,
          -6.596957890327412,
          -17.219486178503278,
          -3.937171712507767,
          -0.4141059754579203,
          1.6728865562269206,
          0.12421599465413453,
          13.135697803873228,
          -3.2613367243909517,
          1.122718834989106,
          24.392677078065784,
          -3.645505073616961,
          -6.030025480195414,
          -21.455861663954153,
          -10.96848149029644,
          -4.06117887040242,
          10.129737524980882,
          10.230649314103973,
          22.426657844710686,
          -13.14161263922212,
          26.044893403703874,
          14.66572455711094,
          1.4936774374724044,
          20.42080136389674,
          -3.8268181778634864,
          -16.654894418619655,
          11.26375946948835,
          3.859825509842201,
          2.129269153527813,
          -19.393362191333914,
          -10.297380309436102,
          16.696926183762617,
          -24.54419826762733,
          26.7476335874643,
          -11.141197904431838,
          -1.5692234515028243,
          -1.9752149686225677,
          4.027629087786326,
          -1.320329566426774,
          1.8984767315443982,
          -26.39586451720361,
          -3.796507643568818,
          2.3082959769782354,
          -21.291474125243763,
          0.8101182951033804,
          4.8342427280149405,
          21.15506877361674,
          13.676395996604402,
          10.002828679175614,
          -0.40653623042532966,
          0.982504803463852,
          5.365416333191982,
          0.773189901714961,
          17.304200142169417,
          -21.802703404676606,
          -9.011756874981694,
          -2.963502308860764,
          -3.429462980219012,
          -21.995085692226528,
          8.807144911452395,
          -2.664022053793833,
          26.762971722971198,
          -7.06737612356791,
          14.565762577655457,
          -15.186495468690108,
          -4.988172020486767,
          3.7739503150898464,
          -14.511933019771046,
          -28.833298806122173,
          -5.994881589707625,
          -8.885188947300692,
          9.839781298112323,
          -2.0042164578139654,
          -0.37251110393533493,
          17.318193961633497,
          10.660774522894163,
          -12.46134080363294,
          0.8968038226496169,
          8.780647758159693,
          19.44658751760622,
          18.360719025588615,
          -3.123060366280346,
          26.4136306071725,
          -0.37036449615324735,
          -16.833705614969023,
          2.8633121193016517,
          25.33874420464088,
          10.611390307125829,
          19.184673934705817,
          -6.211509348284105,
          3.782092186846528,
          1.5448625885768625,
          13.17593137060443,
          -6.993551207796765,
          29.515864060865344,
          -10.211677223892382,
          21.257875700893003,
          19.4018739960103,
          13.811295965277512,
          3.8776483100873516,
          -15.504662803870877,
          -14.466210138158191,
          0.014927093048841857,
          -18.579317295340548,
          1.4129511362588636,
          -0.6329840661470753,
          7.198325116618608,
          -4.191919409621756,
          2.415574972078769,
          -20.24224017473252,
          15.206663338864077,
          0.12978813120518234,
          13.585227296065408,
          6.300958076659408,
          -11.763070564109135,
          -11.967603955274935,
          -1.264840083303026,
          -6.497901871568703,
          -13.269735074897458,
          -7.813061124722114,
          23.094550229628645,
          23.411179357751585,
          -7.864691539255711,
          5.711419000551026,
          15.258916478601778,
          -5.583923760787915,
          -6.515112175529732,
          0.5602860121300843,
          25.971701215505888,
          -9.192674055029237,
          13.694095867339612,
          -4.089320683944854,
          13.096384280555027,
          20.55601827576528,
          16.83221188241855,
          -11.527640055770007,
          -19.649402267173034,
          -0.8022443166161245,
          -22.503716268712026,
          -3.2391461255236136,
          -20.816305517068137,
          -18.012810831078415,
          2.8180604511358816,
          8.836523708922174,
          -3.0282765207184217,
          19.002078912587766,
          -8.448560566444714,
          -5.255134838327007,
          -15.478900858862215,
          -8.580347065094887,
          31.700123994618046,
          -7.399617240507452,
          -16.603950489161104,
          15.29773838822799,
          -3.7941380927555755,
          0.9626801793986537,
          6.717145547723172,
          3.524362605459487,
          -1.9106045975897685,
          -4.322451222037674,
          10.03023611354031,
          -17.65123771436647,
          -7.040394339597353,
          10.840980180152558,
          8.692894660066647,
          -6.838082848813618,
          -20.851998783887225,
          -12.851702186731613,
          4.967380157858753,
          14.56960101666061,
          -17.6485480044977,
          -13.93895344800685,
          -0.3443927826359183,
          -23.671471472033705,
          -0.027758838395435612,
          2.5073747904095693,
          -3.1605731018167798,
          -23.89206898053027,
          -19.34726978542541,
          -23.029148737269356,
          2.2719475497537585,
          7.968877172032946,
          -5.764376161329069,
          -23.191686870326933,
          3.5528517962409047,
          -24.92831326402107,
          4.365187502791348,
          6.453967388984981,
          -15.961301403381437,
          -12.127355266697718,
          25.09501769625806,
          2.476001612707845,
          0.2409265770044157,
          -4.345159402769538,
          -3.3919633035298022,
          9.323219075824996,
          0.13467019280676373,
          12.785957771318223,
          18.141473350044826,
          -8.153813789374174,
          -10.506756890440794,
          -13.749683579007801,
          6.5186356870744095,
          -1.7981268482252175,
          3.5708702528461576,
          18.234159038726474,
          0.027424383774612784,
          -20.433156084869474,
          -6.5089236810776505,
          -1.275812706355101,
          -5.083441895785945,
          4.57244629530317,
          -11.487968181252452,
          -9.230199916085557,
          17.781198181201383,
          6.4976684398417275,
          2.0012781172747283,
          -15.354970690295,
          -11.298546937023177,
          7.120086600178809,
          17.3500157961052,
          2.639286984512855,
          28.181197574707348,
          5.616055296476441,
          0.4365493065563325,
          14.796131219920959,
          0.6090224966435754,
          -21.280001876883787,
          22.851716490419626,
          -5.550637363582226,
          -3.65221519001283,
          22.316511811522155,
          11.652402637731603,
          -16.92859291121437,
          2.353435234503821,
          28.763294232630702,
          14.140834406492914,
          14.124564450230574,
          -10.027918441973613,
          -11.077243405992958,
          3.917389415252514,
          6.592962243942312,
          -15.16858439168229,
          7.547973065692908,
          2.96951545182527,
          -3.5227513429406025,
          -16.437777921740185,
          -9.376837450589571,
          -23.135770099522908,
          18.200441464808375,
          -12.028993844688518,
          -0.03937141622017069,
          -24.17690347651069,
          -1.4785896492477764,
          5.363687520923155,
          -19.842722936007057,
          9.667843105347055,
          3.1185996636936726,
          -3.8426897365680506,
          -8.74357656731717,
          -13.131092315556002,
          -23.353098464996933,
          -12.81698340339068,
          3.755740173024638,
          -1.7645989838537768,
          4.922680575877212,
          -3.6848840295462657,
          -14.937834105523969,
          -6.066596026857525,
          -26.069904558212684,
          20.1390789668589,
          6.217239358872233,
          2.39873828843065,
          8.063065307299073,
          1.4572929186050794,
          16.058351292401678,
          18.83907068019489,
          -5.248748811342868,
          -13.311693227067158,
          3.348992413700656,
          15.891464665702413,
          18.417613241114772,
          -4.225833955677803,
          -0.8220383945873703,
          20.917822001146146,
          6.424804912905471,
          11.082452320618572,
          22.578031616059857,
          -21.71703984115798,
          21.934607749054535,
          0.32653136498195257,
          15.114056934436759,
          -12.592225334288386,
          -19.54570413332366,
          18.371748047061697,
          26.80327086366122,
          28.953239132180983,
          0.3981154749097551,
          0.522299924220617,
          14.768495885749196,
          19.472355674961843,
          -7.055194005172665,
          28.227629474063164,
          8.22773345796644,
          -12.832921436000222,
          26.83751789695434,
          -17.087242066450848,
          27.00854914931751,
          24.079405303210702,
          -5.710914068204344,
          -1.4007279141147622,
          -6.657826842753679,
          6.524916433413426,
          8.886700652674797,
          3.9385963387944085,
          -10.178756967840007,
          3.132169603630001,
          6.742915256599129,
          -13.994171471241337,
          -8.953979156080386,
          7.914203008014256,
          8.279251768887363,
          -7.840268861286196,
          2.897275660319801,
          -0.9986083078371838,
          1.6868662282887388,
          -18.29792065248787,
          27.788173739726556,
          18.08989994841234,
          -0.620412758931388,
          -10.574566006529528,
          13.27858652561448,
          -10.834751035121473,
          -0.7628049598989721,
          13.626543672638958,
          0.680392720037289,
          6.706799073697615,
          22.359386377530967,
          2.1351373769414024,
          10.276538387938258,
          -11.741339399815294,
          -3.1183803448834753,
          -12.937687533841663,
          23.264153847827576,
          -8.377340414854446,
          13.84493449485619,
          -0.5287948297829602,
          17.159714460891895,
          7.582383918616188,
          0.6473947699452846,
          -11.048380403743012,
          -10.431784230406668,
          16.155830422184174,
          5.715083957414137,
          -21.561377143651697,
          -6.848575914187132,
          -7.765944888267296,
          8.035539737930323,
          -1.9581688064626228,
          24.435175102044557,
          -7.196982486904046,
          -15.160612192136357,
          19.92225815093148,
          17.86731116856997,
          -19.473196593468494,
          13.09773251459515,
          21.576680852948538,
          -7.643788472329473,
          -3.44688288604535,
          5.1998458209449705,
          21.017473561184342,
          5.198147865199148,
          10.537973310205132,
          12.5701690073523,
          -14.383122344167266,
          3.467508871373798,
          -19.496367821346244,
          17.41324578634331,
          10.317475504673542,
          -19.189778970472098,
          -19.14351147996502,
          27.798676521661317,
          -11.554555454349174,
          -27.079436237576477,
          9.680222253703887,
          9.788656448318976,
          29.557565331247744,
          4.04592309334097,
          -3.807216223105993,
          16.47459851843329,
          4.111194414805358,
          -1.3909022777003188,
          14.619662574593333,
          -8.406588282734822,
          -13.998568850188457,
          -4.959978669259962,
          1.7436600729648961,
          -8.890811210842989,
          0.030601556266446964,
          -21.184999131665293,
          -23.220133022220747,
          6.99192092233638,
          5.716248247025791,
          2.3447435209350447,
          13.701165383494871,
          -0.03664734351356426,
          5.235432025934629,
          -23.124088839576096,
          17.00364144348408,
          17.278441444173854,
          -10.270800440992623,
          -5.738805634692588,
          -9.733885659857798,
          24.409428829697028,
          12.558692510075295,
          0.5224925307361714,
          -8.631903758435538,
          11.215079670629763,
          28.997191257579207,
          -13.94761065134172,
          -14.275646777415014,
          15.656792564775605,
          -8.08883867890323,
          -26.625768446220558,
          -6.582564410918448,
          12.10282709773722,
          -1.7290476481884047,
          -17.573320109946685,
          -3.1855780703860415,
          -23.84668537325081,
          -4.274054730077485,
          1.1310847548322038,
          1.5412199637676156,
          0.659723134447049,
          5.496343668531924,
          -17.126212046191263,
          28.290254608668928,
          13.615764101545375,
          -3.1868647223734627,
          -15.260425208822193,
          4.7098369620379605,
          -16.71795701959138,
          0.336695319831152,
          0.5191412851052908,
          18.551126747563483,
          22.253330316205528,
          -2.6511682063109556,
          -4.092102357903175,
          -23.410400440651525,
          -25.108025487684973,
          -20.54204634159952,
          -12.295951710383548,
          -2.9436981423010984,
          2.8054529648614737,
          -24.38395012407802,
          -7.345480678898316,
          8.081884660291113,
          6.658956561808947,
          8.94527037893851,
          -2.9924718613343813,
          0.9756552359173163,
          -5.360001614939523,
          1.57710433522573,
          7.6530900589850095,
          -9.2999348811997,
          -10.397308400816884,
          8.700765082088608,
          -17.072454473377547,
          -18.87651085548475,
          -20.619032769182585,
          -12.299077469233758,
          0.5117493647961142,
          -0.5650254954945871,
          10.322775489109436,
          3.4198005803318017,
          -5.529752894874617,
          1.409080848026037,
          -1.4580199562474885,
          -10.188690428715354,
          -5.160621244118803,
          24.502373896255182,
          18.88878377348866,
          -17.702798595039276,
          -20.10594725652508,
          -9.860574911977242,
          12.668021225366985,
          -21.47134829263121,
          -25.854343645851685,
          -24.802723901641023,
          28.096188601364936,
          1.3887357013603685,
          -26.49487724706395,
          -0.33164864422441015,
          3.757801650134995,
          21.696101589293843,
          26.67571693370812,
          9.777773437340267,
          0.8559489644018164,
          -7.4993499509194566,
          12.427990510839805,
          -7.4207932243646155,
          -0.5446124740428179,
          -15.940646281308943,
          8.557606598925073,
          9.084629646341641,
          12.772943758463896,
          17.595206744151568,
          -4.7346895016621815,
          -2.111234098029994,
          -24.096077712937937,
          -3.422519833813388,
          19.187862018534044,
          7.17326487537972,
          -14.633312807570999,
          7.914306445417031,
          -8.442298786121265,
          -5.404003152278726,
          -12.037014523041602,
          10.782121107461048,
          0.43790706303097127,
          11.187547210808892,
          5.663816445636502,
          -18.42439796820997,
          -19.144978396256892,
          2.821611908901674,
          20.693199342895912,
          11.166342600153133,
          26.68918429903201,
          -4.829475985376769,
          24.113803615548864,
          -5.50289783106514,
          12.409859992036655,
          0.12649410377599965,
          -3.653365717557487,
          -16.82206521032013,
          7.501964522050695,
          3.1351809442322645,
          0.6782131762310372,
          18.359681406807976,
          2.9049946476774005,
          17.579979386414017,
          -1.5016873248368159,
          16.78028028703032,
          -0.7543201808190786,
          -13.513263222128273,
          17.11107881058894,
          19.125022504064223,
          14.906171062950516,
          -16.528847754584316,
          1.0422048065872127,
          -8.67172827932063,
          10.63621982893641,
          -11.24832793492262,
          -4.616031240671814,
          21.3634095236469,
          -16.684098835092843,
          19.015447774935886,
          -1.8835277569423754,
          1.0262159018033856,
          0.20757906307303922,
          -28.365275995902707,
          3.8529049474117154,
          -7.0860839803566655,
          7.499051947924474,
          -2.2890842328049654,
          9.251104433234863,
          -5.744004125789321,
          -27.87534849546071,
          -14.087087363079355
         ],
         "y": [
          -6.298400969197849,
          -20.733717323111883,
          11.597979057112976,
          -4.818587075680159,
          22.85927874632634,
          17.811096656913048,
          13.34412471967028,
          11.851758886516926,
          -11.842593863059472,
          -2.684686549538957,
          13.248456242522508,
          7.0373876886652535,
          6.001001246135034,
          17.273337136054018,
          -21.07166428904291,
          24.135919300683494,
          0.9697197339310962,
          -3.356493602192847,
          6.205047827709164,
          4.6277283553172985,
          -5.502673663407027,
          -6.696500573686672,
          -6.757302168108551,
          10.402584433723453,
          -22.448235414727105,
          -3.664299466880693,
          10.800514779468648,
          11.30335765278678,
          2.8574188043920095,
          -13.054196935366338,
          -9.991357327524602,
          -20.33905073513145,
          21.84296995256537,
          19.707258259307547,
          1.2824496028870964,
          -0.8281013052029756,
          6.841435678435179,
          -11.217758815483142,
          3.319151274600079,
          -8.198723734352475,
          8.399256870502326,
          -20.73681785600098,
          -18.49326509189173,
          10.557021681025905,
          13.577649984081278,
          9.176246927821332,
          14.973887856402328,
          1.3954752040512024,
          11.349753952497293,
          -2.179449298715145,
          7.941858863574541,
          19.74792046435014,
          -19.633990338506145,
          -18.913570631772377,
          9.699609143056591,
          24.077773233052703,
          4.73117483888906,
          13.509772294869807,
          0.030346750077165814,
          -6.834037764142418,
          -4.431660030143289,
          -17.409999244032065,
          25.079504859459494,
          -0.5308790325916638,
          -18.37612210206765,
          1.3856231793636844,
          20.32110622110876,
          18.22890372296382,
          1.7548668576460338,
          -0.9831370060400668,
          -1.624490864203781,
          -1.8241876245461623,
          6.693527359076547,
          -17.352273223398488,
          13.562407571364824,
          -6.804779718404307,
          21.46474585742865,
          -22.194302533876073,
          6.916309322786595,
          8.929590138622457,
          -8.393189927153054,
          -17.468222506911413,
          22.84358684513126,
          -0.21241777473950463,
          -9.22724899350472,
          22.564553961732873,
          1.8668003451775113,
          -2.6945496808097045,
          15.624680418808266,
          -3.0689152901473444,
          -5.277126270979138,
          -16.611095332757696,
          12.323863486254515,
          4.405791081109108,
          -5.448799379766386,
          -1.0091719204301168,
          -2.772545365523023,
          -10.53267764786883,
          -0.9034742374943315,
          13.773999305717458,
          21.459926726064875,
          -5.138006349122121,
          -11.685144142091533,
          -25.798828231550615,
          -4.410855388918435,
          -10.618786002949603,
          -23.706715895898064,
          -4.164950802027161,
          -8.034038188313186,
          12.76678337332795,
          22.433822703325234,
          -12.58939412074675,
          19.713870210945114,
          -6.366943626978519,
          -17.50782793860995,
          -4.55834937772641,
          -14.144622186980031,
          15.770327218000054,
          19.817791377333013,
          6.809989887237287,
          11.643398834270714,
          1.018290693032558,
          10.940340645373386,
          -11.331202878673121,
          23.16691551995009,
          -7.960258265279747,
          -2.7914140113871646,
          -17.884477444007345,
          1.020686213550717,
          -19.97113817350516,
          -20.799121183633517,
          -1.9155176918486716,
          -12.911403317241076,
          -10.427784856866793,
          -5.357027538277345,
          -12.600830739145804,
          21.946625416500247,
          10.931202087443383,
          -13.627401601969758,
          -1.971177329983309,
          -11.248585001708012,
          23.80245839003304,
          -1.7228247889929997,
          -5.221146177167233,
          7.408440462826646,
          10.525181141695795,
          10.741055367840682,
          -1.2976718344798035,
          -12.492241253282472,
          11.097501238540207,
          -9.90093514891054,
          -1.1257784264835204,
          -14.026618277763415,
          2.573846418281215,
          11.313119959090985,
          11.254734586776019,
          26.520154560098106,
          17.262088713156672,
          5.268877552969425,
          -1.388083814170891,
          -4.253660800610767,
          8.100013714306417,
          2.136169172154304,
          0.8222582285217692,
          3.4862477596273016,
          12.347139693037615,
          13.724345660787774,
          -14.025579489971047,
          0.6879788411623878,
          -14.764671366468196,
          18.39565156455119,
          0.6648571049264034,
          1.1833603213113564,
          -16.059284902002698,
          15.238547988978118,
          2.7835654972270416,
          -20.607321800925934,
          16.67145424517815,
          4.407028303552897,
          -3.8388293668929414,
          -14.203650771444945,
          12.074897326215092,
          -14.77619831483625,
          -7.29532168444393,
          -19.02057170232273,
          11.123882076516821,
          -7.706488399844401,
          12.800604624061462,
          2.773232331047683,
          -24.76150050276999,
          -3.5238640449364995,
          3.0781620193289547,
          -8.221016818209753,
          -4.73050313105807,
          11.390473209985776,
          16.203949381188316,
          13.528170292904061,
          6.365549061795665,
          3.351904568935482,
          7.8355219764539505,
          -10.458240153904008,
          18.97042075818127,
          0.5928259981530394,
          13.021545264650822,
          -2.410265477977598,
          -3.6367120864430857,
          -23.310570926529532,
          -1.1320027870615335,
          0.948086455864485,
          -7.97954650427837,
          11.082160692445408,
          -7.778984165960095,
          26.138822822459357,
          3.849048910028281,
          -10.501758104869428,
          -4.111299633094268,
          0.2616457522491864,
          26.593013482512557,
          -17.564693774177776,
          1.7823337851003966,
          2.572450294095494,
          -18.647258451397278,
          16.635346439281157,
          -11.142490380109527,
          -18.07443049612694,
          -14.775109844405307,
          14.181323174762756,
          -2.378538974541566,
          21.566727514821512,
          23.55016559399236,
          3.1580627316276924,
          -15.413954574932946,
          -1.708692883674799,
          -4.701790912047167,
          0.9670546796889712,
          -3.4937312691202185,
          -11.492528095061349,
          -26.05465008465057,
          -10.306785708764295,
          -3.7714787407449655,
          25.28779012270776,
          -3.664503978080984,
          13.8812273776764,
          14.407365823268519,
          25.65275317860468,
          1.05587086965699,
          -14.252632137878948,
          7.782532295088363,
          -12.92635319563584,
          13.799034806166423,
          16.284132290162834,
          22.32955944794498,
          4.757892676306643,
          10.054287845651698,
          -15.17687902764326,
          -14.980892139444446,
          -1.3325722406872365,
          13.132636312185745,
          -8.002739156616574,
          17.62163110096588,
          6.931765988278127,
          -2.875280442553026,
          16.92624686114354,
          -11.593351901469712,
          13.289054038651273,
          -11.008659167094187,
          -4.520904386561893,
          1.6808065282123288,
          21.127305890687662,
          22.714504783913203,
          24.005357428270965,
          11.554029669690248,
          1.2170637870704244,
          5.4407187723503,
          -13.212952907266,
          -14.185885539866659,
          13.201562547845496,
          2.586146306500004,
          8.14661254441626,
          17.28196127433152,
          -8.78003354268728,
          17.120243514411012,
          23.41561012994648,
          11.017140203713932,
          6.152349942675308,
          -5.997999058026843,
          13.52517001618889,
          8.026912037805022,
          26.311389831991693,
          -2.8775001472224218,
          -18.10251235071163,
          0.10036088265210442,
          5.3364250974971625,
          -5.919950212893391,
          3.50891315242277,
          -4.684806577384829,
          -26.120057355456368,
          -12.637749735367528,
          19.78844179550975,
          -15.787044964191299,
          16.04872082086111,
          2.365031479145447,
          -17.636538687959767,
          -7.330767506149118,
          -19.373980324665126,
          17.010223349932605,
          -14.954133495886776,
          -17.726467474435477,
          14.199044313537248,
          -1.593271888446801,
          -12.737920892348741,
          17.440849599006473,
          -4.811063056818165,
          0.5340364873630193,
          1.499036214495575,
          -5.74500051965619,
          -6.613650115065143,
          18.62929298815611,
          10.886696123137682,
          7.268457486359332,
          2.2324796216590896,
          3.14118319359957,
          -13.463715943571904,
          16.56957011409842,
          17.14187528420107,
          2.258681329773695,
          11.358648817205895,
          9.628070390571636,
          -12.302455675130197,
          9.17729023070178,
          -1.2303406590032575,
          -9.141159009939953,
          -2.30193395730155,
          -0.5207487983355187,
          8.730561155840443,
          -15.861297179257104,
          -18.241703582202444,
          -3.7144210639197675,
          7.565010707574639,
          20.882141569647253,
          -10.063053281001514,
          24.0911351592956,
          22.40925074823085,
          13.455813373111932,
          5.007215180746281,
          -11.53918953088431,
          -25.345029067156002,
          -20.16196754853614,
          -4.025531875224199,
          4.703838149288153,
          -10.390239197334951,
          14.034170243849687,
          5.314845678734547,
          -2.9552274701329857,
          24.848237454366455,
          -2.9335207280252504,
          17.02645603997408,
          7.099126496587632,
          21.86920852582018,
          12.12011252611448,
          -15.0036819823256,
          -17.121231356259294,
          -6.695385018717885,
          22.89595638381166,
          -23.554500015407516,
          11.056178076783459,
          -3.817278953186513,
          -11.098366314432512,
          -10.44418425166283,
          -20.506480467781667,
          4.308736447648376,
          -6.2276022262782025,
          -14.90555472643715,
          -10.893190566657386,
          20.82333124142384,
          9.119141411449405,
          1.0471172968438436,
          10.169816822977934,
          -6.56092137433731,
          -8.819550678458624,
          -11.773850845678977,
          -13.975303938037927,
          -7.07596871419445,
          6.27757392338926,
          0.579442161599862,
          3.904237872066879,
          8.479282911784392,
          -19.197570729512186,
          -1.8331271716976874,
          3.344030590884796,
          11.172219818447319,
          -4.0909118598044625,
          -11.210667971071919,
          17.156141698870307,
          -23.765120310260468,
          1.034637089946603,
          26.77097535889159,
          24.776345093996827,
          -22.273610784871895,
          6.484423807113293,
          -25.25594340891371,
          12.570268245130858,
          16.2032248170066,
          3.0590006277766815,
          -4.515537216275023,
          -2.1901587922946324,
          6.522142135423548,
          -8.667835651881045,
          6.015398056440738,
          -2.928334429560935,
          19.850946377911306,
          3.9303997828939337,
          -12.538544290709046,
          -19.754609535537007,
          6.659077109049504,
          -24.44879035699441,
          -19.313626467345777,
          -7.854258091666819,
          7.443489615717205,
          13.979504059015495,
          5.035722813154376,
          -12.013779648956234,
          14.8957379863494,
          -8.904060423843205,
          10.50943284209645,
          5.122095072665908,
          -9.955986829578277,
          -19.764618518697695,
          -6.219028510269271,
          -16.00137759451976,
          -15.998428688979258,
          27.90631974487442,
          12.816621647207432,
          -1.8587611740016414,
          -14.21046913266462,
          -5.216620770550504,
          24.324790633484948,
          -3.0912388948576877,
          -4.991429904538555,
          -20.237290855967498,
          17.995230218771034,
          18.054750566309952,
          16.919862264038926,
          -0.24447266539191634,
          1.6352712417776945,
          -5.1398264698608145,
          0.23669826006620698,
          -8.81195503647832,
          4.971979480168726,
          4.872530399250886,
          -1.102662156787851,
          20.168143529793255,
          -5.398844574077304,
          -9.590169903337873,
          -5.613073305168159,
          -12.117793869047102,
          -23.6187227078269,
          0.4563775541079557,
          -26.3102866744933,
          13.61867536032365,
          0.7098538607342614,
          4.315851225233875,
          -3.8883781135297197,
          -16.20147206544832,
          -6.464767064455071,
          18.37720122646642,
          4.562076823166847,
          -13.093893830322926,
          3.3239617985726113,
          -2.042036242759089,
          -1.444378045033104,
          -1.7740300814642704,
          6.485577591658783,
          -2.7709979670514153,
          2.1927414582043343,
          0.04206613626222163,
          3.6754479868007603,
          24.661556308445444,
          26.52149138484158,
          6.563434522031973,
          6.206335443781499,
          22.276605736608712,
          23.741217253766607,
          -1.7597541274310164,
          -13.49245810142805,
          5.016531240844925,
          -18.29215675176862,
          11.487581228408377,
          21.089390528967726,
          -15.060265831274773,
          -6.217340129423298,
          -13.273433959292413,
          12.494645776231225,
          -9.166461733024624,
          -5.40216682486587,
          7.380617165566276,
          -15.777879896933483,
          20.737494334163447,
          13.990157429550848,
          -11.957622845269382,
          4.688885187549087,
          -11.217016151572206,
          18.031407994164233,
          -2.934915935896395,
          -9.980802086947879,
          1.2684681993624896,
          6.023156335738861,
          14.58355198973977,
          13.928129854132948,
          -4.880799079734961,
          -18.979020282938084,
          1.228140009817753,
          10.810942821340776,
          4.767674585765655,
          -0.7073522942045101,
          -2.2590177294113647,
          12.185228108224234,
          19.38970151908264,
          -15.899136472268975,
          7.1755294688693105,
          0.7498666883951073,
          -9.908225850807169,
          -7.073054415369803,
          5.1513296100477595,
          -7.512134541875114,
          -18.120509823926934,
          -16.525237911426082,
          -11.071429757904964,
          23.51691379166092,
          21.02105169876242,
          15.168502828883932,
          11.914181865537454,
          -4.673980407565373,
          -12.943568945509975,
          -1.8128530452887204,
          -8.750673289587827,
          6.843362682933424,
          -12.268853768279874,
          -2.806272655405868,
          -10.855706163631611,
          -7.619611340469036,
          26.15544765549753,
          2.341948450900636,
          16.17270068186822,
          5.283831949444272,
          20.785737890126292,
          -10.36868007865293,
          11.801831421771697,
          -0.7605962266944305,
          -13.781623759116444,
          -6.389243695664454,
          -17.885281227235485,
          0.6650655355759039,
          1.5331165628914798,
          6.089256708558737,
          2.7727072987879815,
          -6.248274743496074,
          -20.005068347710505,
          19.19879680142831,
          -8.985145223423537,
          -14.391055519947342,
          -14.100674777366056,
          24.46740215490171,
          12.398849158568748,
          -5.780299923256358,
          -7.210307507577476,
          -13.593786527689296,
          6.694962132891692,
          -13.315107179344277,
          -27.494447921399512,
          17.604547695845945,
          -4.6362048148028405,
          11.224314464943067,
          11.985916136421057,
          2.5566425981119414,
          -7.67967663160588,
          16.59648008476954,
          -10.808385253540116,
          -18.496833657980954,
          5.288339756593714,
          14.038195081309846,
          12.040525118126572,
          -7.002629731676815,
          18.433833245023216,
          22.18487498983071,
          12.041103453705901,
          0.4105024202477737,
          2.5751959872981094,
          -20.86422397575888,
          2.4179830690744333,
          16.643319869569687,
          -16.638531726620776,
          5.618273328438675,
          7.914449110174059
         ],
         "z": [
          -6.1341608124854305,
          -6.019723772480725,
          15.88095808402649,
          -9.520217735464199,
          -14.063113001758524,
          -8.550796221691805,
          -13.439047216854751,
          9.126658508129537,
          -4.490499857556806,
          4.865958842286182,
          0.10950738232636102,
          -2.688524873071631,
          -3.889915903506864,
          3.3411101210113694,
          -12.282909736502294,
          -2.619772227873641,
          12.224831611468296,
          16.11402532169363,
          -12.738202588898014,
          -11.958538612020714,
          -7.85855477965211,
          -3.873646270663445,
          23.334913657819023,
          13.642768984982688,
          12.67141115435525,
          -2.1099610170091148,
          2.162033076025637,
          -5.02441706952404,
          -2.1450256041857325,
          -23.114230479663824,
          -4.449076442573502,
          0.8413074101902889,
          15.23536735655689,
          -3.975866831428762,
          -13.574363172392784,
          -11.698025812194128,
          3.9518872862254275,
          -4.594761763933496,
          3.6462759714099504,
          9.338241754480594,
          -7.7495548352243375,
          16.007167971104632,
          5.836767512503417,
          16.426091605544613,
          4.068227020589517,
          -9.888099307291329,
          15.6603983325531,
          31.015703154366417,
          18.913203807006848,
          7.170715741812512,
          -11.326134240778678,
          13.83512264611028,
          1.4242754852778658,
          -21.831662442652668,
          -6.474715215495293,
          -0.8275212213936595,
          18.14773933414198,
          -2.4349968630407735,
          -6.94238094010801,
          23.771571563253495,
          -10.08919954105375,
          1.6155526981139625,
          -1.3782915411864443,
          28.39559067648095,
          -6.215316989887151,
          4.472273337794957,
          -0.21242342641065864,
          -8.860555474856195,
          -8.432409064912163,
          -26.566394686024957,
          5.698071490390749,
          9.752577653248315,
          -14.663487570933357,
          15.50025258657588,
          3.249597934952571,
          1.8291922069659516,
          -5.300855829391039,
          -6.821226073750062,
          10.895138043171452,
          0.22777534073372652,
          23.91420694780993,
          5.277023420050821,
          4.20600170472372,
          9.325567900749714,
          -4.2724911125629275,
          -5.464608278964554,
          -12.021538522165306,
          27.679994538538033,
          15.072344038237764,
          11.673889412349256,
          16.935154407037434,
          -15.083314398881965,
          -6.758161328178977,
          -1.6106458374895245,
          11.120244657161466,
          -1.9241053222606217,
          -25.10429746394257,
          17.325592653143147,
          19.70161609112699,
          15.868326738026868,
          -3.904928105575727,
          13.256449195248209,
          -13.327081133955133,
          9.700600410255678,
          -5.86622897303565,
          -17.436709189383535,
          -4.273464862203878,
          -3.960316219643718,
          7.9186881911013565,
          4.30030424812652,
          -2.4376307696293233,
          4.967590047390334,
          0.14938678852585718,
          -15.434788669944322,
          6.224393954965998,
          22.541012227777802,
          11.247766796729943,
          8.528304823897702,
          -2.6618240776106976,
          -9.487007756088262,
          -7.114048230526208,
          -13.722789431815155,
          19.0248630171921,
          -16.785859909327797,
          -2.6270310207499805,
          4.04351621533213,
          14.825550535072601,
          -2.778569363619946,
          8.84846013117393,
          7.518065814020049,
          -14.638853859294654,
          -25.38516558540603,
          3.5803535454000897,
          -21.773183965985837,
          -11.428723010415112,
          16.18901531302349,
          -6.702164171022741,
          12.941415005260652,
          0.506011775943838,
          7.8082148834429255,
          28.177767121840066,
          0.7508085094584543,
          1.6336573458806125,
          19.76512352689862,
          13.8962323909819,
          14.331851291430382,
          -1.489336324475189,
          -1.5176691022764301,
          -26.006204978615106,
          13.323182570537481,
          22.946940838879545,
          28.779271311927744,
          -15.954394234553614,
          1.734779280953131,
          -5.065029294600471,
          10.774121433778735,
          -6.3255278362701794,
          13.756760313505774,
          13.76476594858012,
          -5.8040862666863875,
          31.20490520715761,
          1.551401921462109,
          -13.50689605723289,
          2.9225038618148975,
          2.671655098887429,
          -6.564498485937837,
          -7.460667310161894,
          2.283263748613906,
          -23.253331145709602,
          -7.739131826102769,
          12.49212898902615,
          2.436868447720329,
          5.796255073256176,
          -8.71841895589259,
          6.239588108279462,
          -9.159840399103052,
          -10.596122619533924,
          -9.003508175640588,
          9.151355773477126,
          28.44728042276342,
          -10.763421119454353,
          -9.39031980930264,
          -9.068759118783182,
          1.6749585007494328,
          -10.522430318588876,
          -3.2805856189516733,
          12.325454126490525,
          4.22577703418156,
          20.218830350024838,
          12.509433808848481,
          -7.643670709042261,
          0.6642943980521151,
          22.062336329008577,
          20.212157454380616,
          5.502359654489207,
          -2.9438195515256846,
          -0.060531854270986694,
          10.773701881495011,
          7.3738187096325705,
          2.755778341834593,
          -8.776900929531037,
          -6.116886808907889,
          -4.472514841387937,
          -8.361163441619784,
          -3.788590145721235,
          -17.813618442500008,
          6.351952926413441,
          -27.73320150834118,
          0.9746638382087488,
          -5.17855568183377,
          0.5833738547218279,
          -10.97277850836834,
          -4.97072680692372,
          15.853696016263811,
          15.418496693602876,
          -9.907456048027392,
          3.361952724899162,
          -8.579715983811456,
          8.23347335959939,
          2.3393808285342135,
          -3.525178903490223,
          3.9483806129344443,
          18.510720505959707,
          15.581610992534051,
          1.8772703309026098,
          3.3142929167436335,
          -0.7400950833190352,
          -2.0284454179318177,
          0.028162281474789146,
          -7.071848077018969,
          -10.475906549999912,
          -14.293647841237314,
          3.304830332120788,
          28.68660028696232,
          4.532452826275158,
          15.403017566580338,
          8.305494643124677,
          -4.600179033070367,
          -2.1972734924601065,
          -2.6030373726314626,
          -6.398242590459869,
          13.307206719045805,
          -9.08675648420779,
          -2.9310674947156374,
          0.02739853576058497,
          -15.563259472587575,
          -11.39093730791902,
          -8.989941659151528,
          -12.961370078996433,
          -6.8445883623103185,
          -6.76478831874852,
          -8.140477688377242,
          -2.9322479213663453,
          18.610391996976656,
          -5.552974889746636,
          14.049374019633744,
          -1.123169088962025,
          -13.240954301799666,
          -14.93943121351378,
          -5.121606355955081,
          -14.369739383120418,
          -9.660773696337776,
          16.566155173937652,
          19.537032608855256,
          -2.1390498933090187,
          -19.35261240640098,
          8.481717660969302,
          -6.030169082448678,
          -7.4695225889884815,
          -11.982765036802723,
          -10.286543760888062,
          0.7507872729148893,
          2.564185370399378,
          -1.8388965393724888,
          -0.7944317312013859,
          5.5784672156225374,
          -6.484641604751453,
          -7.5012575868993645,
          1.1930365964655274,
          -11.132607964534948,
          -6.271018457412293,
          14.841499719879359,
          -6.116389991408768,
          0.9132375988590867,
          -3.9747790044452684,
          13.310696938782305,
          -5.9476691460429665,
          11.248509937800037,
          -2.9026747131296413,
          2.254687179477751,
          4.57968373555605,
          0.5445729894056094,
          -9.669671233553794,
          21.48656314527627,
          -10.983074114181044,
          14.221867138575163,
          -9.028335850107098,
          1.1836237990855816,
          2.081030452326907,
          -6.814713844454138,
          20.276818085994,
          10.935940116870158,
          0.27707007281257434,
          31.047063249714082,
          -19.379106186190572,
          14.880604988441828,
          -9.488560606979654,
          -4.229438500336001,
          0.8049740829708173,
          -9.780843532391687,
          -2.508574594334556,
          11.455803675573932,
          -8.529325068333767,
          8.314613876584469,
          8.90762184600622,
          7.389118938111355,
          -9.602196347931034,
          3.1673325156792984,
          2.1727954555473312,
          -0.3212415718475666,
          -6.631861304504349,
          -10.205904249426272,
          -16.624651454509824,
          -11.281857417662799,
          19.313465232721963,
          17.82989063456405,
          -2.311090857043805,
          -12.195416086049725,
          0.21086971554922218,
          8.510960841045364,
          -10.24058805498514,
          6.172924598082701,
          -3.194064829151169,
          -7.113882122740713,
          -10.349688848510862,
          3.8288523097090517,
          -12.641703130222668,
          -22.495980163484994,
          3.785620644896477,
          1.430045364140159,
          20.38280594295561,
          2.2858779905386744,
          -9.23123489647234,
          -0.2040444681223969,
          1.3415471457007646,
          10.460048536367902,
          3.1661589517069597,
          -5.615115080301363,
          6.2286219441267106,
          5.999295445765444,
          -26.85886541173398,
          -2.7050638031521994,
          -12.168287310082613,
          0.10783812347924933,
          -0.6378992463258173,
          18.50474491028626,
          13.14900866803,
          -2.518520397580655,
          -6.383777728018183,
          15.601860792729068,
          -18.967170052619817,
          3.8453674535471145,
          -9.058061007180868,
          5.676064440425729,
          12.331044774482372,
          -8.942690435888528,
          1.9543336537284781,
          28.171052747520378,
          -9.81006058979276,
          -10.53250182278724,
          9.74490893640308,
          0.8771173959462361,
          11.442110700160756,
          -12.365595774075414,
          -3.9490988751959084,
          5.471043713170363,
          17.167658169304907,
          7.207202840450119,
          -0.3911031704429028,
          -0.6671633734612795,
          26.291811918502315,
          3.46588031892386,
          1.2335382437800366,
          -11.595760158586284,
          13.920204794566677,
          11.562102797995271,
          -8.923441650807852,
          11.626489555621868,
          10.091532240994121,
          11.0653867965362,
          11.811217246652854,
          -8.28178414864283,
          22.99417670897378,
          -13.38682302177683,
          9.569815598201613,
          -10.601908305790712,
          -5.270383651010664,
          9.551134739704107,
          10.633264049237265,
          9.395368628553536,
          3.9638729929222842,
          -10.971323275832408,
          12.182605701767923,
          -23.29290690313069,
          -13.902468818178708,
          -2.0163269439317832,
          -13.189018796130997,
          26.887619841623223,
          -3.9310572036753255,
          24.160955780611175,
          12.515066721359831,
          2.5425142891424715,
          9.704617899025514,
          1.501136053656591,
          -20.30861015169266,
          10.604877315425068,
          -20.162760663489987,
          16.728061655615114,
          -3.974736267393875,
          -14.632056719217518,
          3.4716225289537177,
          -4.542928472240495,
          -13.024523313589688,
          8.318783846143303,
          1.5106385141285488,
          6.795801244240595,
          2.9585526991688322,
          5.88434346031219,
          6.982119588247501,
          13.108507305387812,
          -13.220998698177779,
          -1.0465728718074092,
          -14.050222385324355,
          -18.269787878711437,
          12.082192541232743,
          11.693145496323702,
          -4.293407655668994,
          -1.2533568832213435,
          -4.413967834622653,
          2.1425019963207794,
          -4.092853838650014,
          -11.149637199160342,
          -10.06684965403769,
          -10.962287162121331,
          7.732379952282541,
          11.97227187500503,
          -8.15162532021685,
          21.00931221459456,
          2.636840343818067,
          -8.188040126210211,
          19.624055957222268,
          -11.805494839845084,
          -14.367484619392734,
          -1.3291324823041457,
          -4.069689626999511,
          17.17641567420816,
          -0.9215881682572131,
          6.993886068348576,
          -9.881372399800986,
          16.224495245372875,
          -3.8461879778048025,
          -3.853029197370104,
          -18.250774969943635,
          5.368928562059738,
          26.363433242236848,
          3.190503868954243,
          -15.087052898641977,
          -18.363724330849077,
          -22.046620798799516,
          -10.39361675773347,
          -8.316773295902498,
          1.9097918567738943,
          1.923427294744848,
          -8.754815295569724,
          4.637393962510487,
          0.8044510592080916,
          -2.2837292947571632,
          -10.209340249858375,
          -1.3002921112416423,
          -9.720443570962136,
          -20.035414031706537,
          5.184758366413844,
          -7.232858405370668,
          24.484731996429733,
          2.749136039585015,
          -13.456021386478506,
          -9.497035706834426,
          -10.045595236633323,
          -2.3583016474361083,
          -0.7987863529801571,
          18.46952152137189,
          -21.790203471006404,
          9.445888738157118,
          19.52298356200677,
          -2.714528958860525,
          2.3523096823808562,
          -9.478128154014652,
          1.0261387842578098,
          -8.752365983446706,
          -2.739276838072456,
          -20.43820156431632,
          -11.452352694183029,
          1.4024242115770074,
          -5.038915030951576,
          1.6044309386214262,
          11.1342346371832,
          14.548468564120109,
          -14.059100834185822,
          0.13064753733143394,
          27.81608305608624,
          -1.8533759980029045,
          0.17049823135905284,
          -7.188602802946708,
          1.8730829604202355,
          -6.815259042226171,
          4.020497247105194,
          -10.615519238515606,
          -13.517948744644402,
          -25.99758669499058,
          18.677353179487437,
          -8.325665326157601,
          -26.284041151859487,
          3.8474877266677376,
          -8.155463447177127,
          4.794442546386405,
          -3.8326962392192194,
          8.746956901996063,
          23.093428720820942,
          2.638261768486659,
          7.149566456667856,
          8.079592635223424,
          9.276566569054765,
          8.537208102461209,
          7.860290071862968,
          -7.518786986228301,
          -7.208259999305239,
          14.183089567649233,
          3.4226738272717157,
          5.347128358527193,
          -7.094006477278707,
          28.923195364438698,
          -3.3332355929860067,
          9.00483573749946,
          -6.362634098713859,
          7.70368161866226,
          -11.029376672189178,
          -20.957352829669386,
          3.396851506114149,
          -3.7858203522562333,
          -3.3188033556331193,
          -10.220327417711898,
          13.93248808930541,
          -14.662728594543752,
          -1.7443047818087967,
          16.652966635785678,
          -5.9908214088952985,
          1.039722097410985,
          -22.362592405748114,
          -2.961534064496725,
          2.706176421884166,
          -19.838140232497654,
          -16.560905376091416,
          -3.894523511377313,
          10.501056464393619,
          22.561285356883918,
          -13.766120208654153,
          -15.92742324446442,
          -11.806666642754006,
          3.787920060033805,
          -1.2002910990693076,
          14.460281242393316,
          10.634929730990917,
          14.6066267065741,
          -9.484156402016088,
          -25.944229719950695,
          14.017234798655322,
          15.056333821814633,
          20.685870290140766,
          0.08826966398805128,
          15.087405988578707,
          -1.3799007766745786,
          19.591546608944494,
          24.66997482345521,
          -4.006269125148326,
          -12.467587958894566,
          -0.4504409976963532,
          -2.3475808473925963,
          -5.528980183837981,
          -7.666576564709383,
          -1.442143807698617,
          -5.793246828712079,
          -6.44779333699458,
          0.8888523225370581,
          0.3924939515647873
         ]
        },
        {
         "marker": {
          "color": "red",
          "opacity": 1,
          "size": 9
         },
         "mode": "markers",
         "name": "Centroid",
         "type": "scatter3d",
         "x": [
          -20.92374112279798,
          16.193307426260887,
          -1.6876607847111171,
          -15.077882763981572,
          -9.323893693655227,
          23.275501927477833,
          1.1688964958162589,
          1.287928330884235,
          5.177623909097184,
          -2.3291231147856277
         ],
         "y": [
          -1.3593219862094768,
          11.993681225426661,
          -15.895948725947855,
          10.178577324185502,
          -6.116945776126976,
          0.6561160927305711,
          20.79370870010087,
          -1.2344735064679349,
          -16.75785611944437,
          -4.640545384224848
         ],
         "z": [
          -3.844010541866453,
          14.055444965984698,
          -12.956373212302434,
          -2.405955741385548,
          20.139952103609254,
          -7.893732417789341,
          -4.424777543415796,
          -20.351311350953008,
          5.530857605217366,
          0.8097732502489436
         ]
        }
       ],
       "layout": {
        "scene": {
         "xaxis": {
          "title": {
           "text": "PC 1"
          }
         },
         "yaxis": {
          "title": {
           "text": "PC 2"
          }
         },
         "zaxis": {
          "title": {
           "text": "PC 3"
          }
         }
        },
        "template": {
         "data": {
          "bar": [
           {
            "error_x": {
             "color": "#2a3f5f"
            },
            "error_y": {
             "color": "#2a3f5f"
            },
            "marker": {
             "line": {
              "color": "#E5ECF6",
              "width": 0.5
             },
             "pattern": {
              "fillmode": "overlay",
              "size": 10,
              "solidity": 0.2
             }
            },
            "type": "bar"
           }
          ],
          "barpolar": [
           {
            "marker": {
             "line": {
              "color": "#E5ECF6",
              "width": 0.5
             },
             "pattern": {
              "fillmode": "overlay",
              "size": 10,
              "solidity": 0.2
             }
            },
            "type": "barpolar"
           }
          ],
          "carpet": [
           {
            "aaxis": {
             "endlinecolor": "#2a3f5f",
             "gridcolor": "white",
             "linecolor": "white",
             "minorgridcolor": "white",
             "startlinecolor": "#2a3f5f"
            },
            "baxis": {
             "endlinecolor": "#2a3f5f",
             "gridcolor": "white",
             "linecolor": "white",
             "minorgridcolor": "white",
             "startlinecolor": "#2a3f5f"
            },
            "type": "carpet"
           }
          ],
          "choropleth": [
           {
            "colorbar": {
             "outlinewidth": 0,
             "ticks": ""
            },
            "type": "choropleth"
           }
          ],
          "contour": [
           {
            "colorbar": {
             "outlinewidth": 0,
             "ticks": ""
            },
            "colorscale": [
             [
              0,
              "#0d0887"
             ],
             [
              0.1111111111111111,
              "#46039f"
             ],
             [
              0.2222222222222222,
              "#7201a8"
             ],
             [
              0.3333333333333333,
              "#9c179e"
             ],
             [
              0.4444444444444444,
              "#bd3786"
             ],
             [
              0.5555555555555556,
              "#d8576b"
             ],
             [
              0.6666666666666666,
              "#ed7953"
             ],
             [
              0.7777777777777778,
              "#fb9f3a"
             ],
             [
              0.8888888888888888,
              "#fdca26"
             ],
             [
              1,
              "#f0f921"
             ]
            ],
            "type": "contour"
           }
          ],
          "contourcarpet": [
           {
            "colorbar": {
             "outlinewidth": 0,
             "ticks": ""
            },
            "type": "contourcarpet"
           }
          ],
          "heatmap": [
           {
            "colorbar": {
             "outlinewidth": 0,
             "ticks": ""
            },
            "colorscale": [
             [
              0,
              "#0d0887"
             ],
             [
              0.1111111111111111,
              "#46039f"
             ],
             [
              0.2222222222222222,
              "#7201a8"
             ],
             [
              0.3333333333333333,
              "#9c179e"
             ],
             [
              0.4444444444444444,
              "#bd3786"
             ],
             [
              0.5555555555555556,
              "#d8576b"
             ],
             [
              0.6666666666666666,
              "#ed7953"
             ],
             [
              0.7777777777777778,
              "#fb9f3a"
             ],
             [
              0.8888888888888888,
              "#fdca26"
             ],
             [
              1,
              "#f0f921"
             ]
            ],
            "type": "heatmap"
           }
          ],
          "heatmapgl": [
           {
            "colorbar": {
             "outlinewidth": 0,
             "ticks": ""
            },
            "colorscale": [
             [
              0,
              "#0d0887"
             ],
             [
              0.1111111111111111,
              "#46039f"
             ],
             [
              0.2222222222222222,
              "#7201a8"
             ],
             [
              0.3333333333333333,
              "#9c179e"
             ],
             [
              0.4444444444444444,
              "#bd3786"
             ],
             [
              0.5555555555555556,
              "#d8576b"
             ],
             [
              0.6666666666666666,
              "#ed7953"
             ],
             [
              0.7777777777777778,
              "#fb9f3a"
             ],
             [
              0.8888888888888888,
              "#fdca26"
             ],
             [
              1,
              "#f0f921"
             ]
            ],
            "type": "heatmapgl"
           }
          ],
          "histogram": [
           {
            "marker": {
             "pattern": {
              "fillmode": "overlay",
              "size": 10,
              "solidity": 0.2
             }
            },
            "type": "histogram"
           }
          ],
          "histogram2d": [
           {
            "colorbar": {
             "outlinewidth": 0,
             "ticks": ""
            },
            "colorscale": [
             [
              0,
              "#0d0887"
             ],
             [
              0.1111111111111111,
              "#46039f"
             ],
             [
              0.2222222222222222,
              "#7201a8"
             ],
             [
              0.3333333333333333,
              "#9c179e"
             ],
             [
              0.4444444444444444,
              "#bd3786"
             ],
             [
              0.5555555555555556,
              "#d8576b"
             ],
             [
              0.6666666666666666,
              "#ed7953"
             ],
             [
              0.7777777777777778,
              "#fb9f3a"
             ],
             [
              0.8888888888888888,
              "#fdca26"
             ],
             [
              1,
              "#f0f921"
             ]
            ],
            "type": "histogram2d"
           }
          ],
          "histogram2dcontour": [
           {
            "colorbar": {
             "outlinewidth": 0,
             "ticks": ""
            },
            "colorscale": [
             [
              0,
              "#0d0887"
             ],
             [
              0.1111111111111111,
              "#46039f"
             ],
             [
              0.2222222222222222,
              "#7201a8"
             ],
             [
              0.3333333333333333,
              "#9c179e"
             ],
             [
              0.4444444444444444,
              "#bd3786"
             ],
             [
              0.5555555555555556,
              "#d8576b"
             ],
             [
              0.6666666666666666,
              "#ed7953"
             ],
             [
              0.7777777777777778,
              "#fb9f3a"
             ],
             [
              0.8888888888888888,
              "#fdca26"
             ],
             [
              1,
              "#f0f921"
             ]
            ],
            "type": "histogram2dcontour"
           }
          ],
          "mesh3d": [
           {
            "colorbar": {
             "outlinewidth": 0,
             "ticks": ""
            },
            "type": "mesh3d"
           }
          ],
          "parcoords": [
           {
            "line": {
             "colorbar": {
              "outlinewidth": 0,
              "ticks": ""
             }
            },
            "type": "parcoords"
           }
          ],
          "pie": [
           {
            "automargin": true,
            "type": "pie"
           }
          ],
          "scatter": [
           {
            "fillpattern": {
             "fillmode": "overlay",
             "size": 10,
             "solidity": 0.2
            },
            "type": "scatter"
           }
          ],
          "scatter3d": [
           {
            "line": {
             "colorbar": {
              "outlinewidth": 0,
              "ticks": ""
             }
            },
            "marker": {
             "colorbar": {
              "outlinewidth": 0,
              "ticks": ""
             }
            },
            "type": "scatter3d"
           }
          ],
          "scattercarpet": [
           {
            "marker": {
             "colorbar": {
              "outlinewidth": 0,
              "ticks": ""
             }
            },
            "type": "scattercarpet"
           }
          ],
          "scattergeo": [
           {
            "marker": {
             "colorbar": {
              "outlinewidth": 0,
              "ticks": ""
             }
            },
            "type": "scattergeo"
           }
          ],
          "scattergl": [
           {
            "marker": {
             "colorbar": {
              "outlinewidth": 0,
              "ticks": ""
             }
            },
            "type": "scattergl"
           }
          ],
          "scattermapbox": [
           {
            "marker": {
             "colorbar": {
              "outlinewidth": 0,
              "ticks": ""
             }
            },
            "type": "scattermapbox"
           }
          ],
          "scatterpolar": [
           {
            "marker": {
             "colorbar": {
              "outlinewidth": 0,
              "ticks": ""
             }
            },
            "type": "scatterpolar"
           }
          ],
          "scatterpolargl": [
           {
            "marker": {
             "colorbar": {
              "outlinewidth": 0,
              "ticks": ""
             }
            },
            "type": "scatterpolargl"
           }
          ],
          "scatterternary": [
           {
            "marker": {
             "colorbar": {
              "outlinewidth": 0,
              "ticks": ""
             }
            },
            "type": "scatterternary"
           }
          ],
          "surface": [
           {
            "colorbar": {
             "outlinewidth": 0,
             "ticks": ""
            },
            "colorscale": [
             [
              0,
              "#0d0887"
             ],
             [
              0.1111111111111111,
              "#46039f"
             ],
             [
              0.2222222222222222,
              "#7201a8"
             ],
             [
              0.3333333333333333,
              "#9c179e"
             ],
             [
              0.4444444444444444,
              "#bd3786"
             ],
             [
              0.5555555555555556,
              "#d8576b"
             ],
             [
              0.6666666666666666,
              "#ed7953"
             ],
             [
              0.7777777777777778,
              "#fb9f3a"
             ],
             [
              0.8888888888888888,
              "#fdca26"
             ],
             [
              1,
              "#f0f921"
             ]
            ],
            "type": "surface"
           }
          ],
          "table": [
           {
            "cells": {
             "fill": {
              "color": "#EBF0F8"
             },
             "line": {
              "color": "white"
             }
            },
            "header": {
             "fill": {
              "color": "#C8D4E3"
             },
             "line": {
              "color": "white"
             }
            },
            "type": "table"
           }
          ]
         },
         "layout": {
          "annotationdefaults": {
           "arrowcolor": "#2a3f5f",
           "arrowhead": 0,
           "arrowwidth": 1
          },
          "autotypenumbers": "strict",
          "coloraxis": {
           "colorbar": {
            "outlinewidth": 0,
            "ticks": ""
           }
          },
          "colorscale": {
           "diverging": [
            [
             0,
             "#8e0152"
            ],
            [
             0.1,
             "#c51b7d"
            ],
            [
             0.2,
             "#de77ae"
            ],
            [
             0.3,
             "#f1b6da"
            ],
            [
             0.4,
             "#fde0ef"
            ],
            [
             0.5,
             "#f7f7f7"
            ],
            [
             0.6,
             "#e6f5d0"
            ],
            [
             0.7,
             "#b8e186"
            ],
            [
             0.8,
             "#7fbc41"
            ],
            [
             0.9,
             "#4d9221"
            ],
            [
             1,
             "#276419"
            ]
           ],
           "sequential": [
            [
             0,
             "#0d0887"
            ],
            [
             0.1111111111111111,
             "#46039f"
            ],
            [
             0.2222222222222222,
             "#7201a8"
            ],
            [
             0.3333333333333333,
             "#9c179e"
            ],
            [
             0.4444444444444444,
             "#bd3786"
            ],
            [
             0.5555555555555556,
             "#d8576b"
            ],
            [
             0.6666666666666666,
             "#ed7953"
            ],
            [
             0.7777777777777778,
             "#fb9f3a"
            ],
            [
             0.8888888888888888,
             "#fdca26"
            ],
            [
             1,
             "#f0f921"
            ]
           ],
           "sequentialminus": [
            [
             0,
             "#0d0887"
            ],
            [
             0.1111111111111111,
             "#46039f"
            ],
            [
             0.2222222222222222,
             "#7201a8"
            ],
            [
             0.3333333333333333,
             "#9c179e"
            ],
            [
             0.4444444444444444,
             "#bd3786"
            ],
            [
             0.5555555555555556,
             "#d8576b"
            ],
            [
             0.6666666666666666,
             "#ed7953"
            ],
            [
             0.7777777777777778,
             "#fb9f3a"
            ],
            [
             0.8888888888888888,
             "#fdca26"
            ],
            [
             1,
             "#f0f921"
            ]
           ]
          },
          "colorway": [
           "#636efa",
           "#EF553B",
           "#00cc96",
           "#ab63fa",
           "#FFA15A",
           "#19d3f3",
           "#FF6692",
           "#B6E880",
           "#FF97FF",
           "#FECB52"
          ],
          "font": {
           "color": "#2a3f5f"
          },
          "geo": {
           "bgcolor": "white",
           "lakecolor": "white",
           "landcolor": "#E5ECF6",
           "showlakes": true,
           "showland": true,
           "subunitcolor": "white"
          },
          "hoverlabel": {
           "align": "left"
          },
          "hovermode": "closest",
          "mapbox": {
           "style": "light"
          },
          "paper_bgcolor": "white",
          "plot_bgcolor": "#E5ECF6",
          "polar": {
           "angularaxis": {
            "gridcolor": "white",
            "linecolor": "white",
            "ticks": ""
           },
           "bgcolor": "#E5ECF6",
           "radialaxis": {
            "gridcolor": "white",
            "linecolor": "white",
            "ticks": ""
           }
          },
          "scene": {
           "xaxis": {
            "backgroundcolor": "#E5ECF6",
            "gridcolor": "white",
            "gridwidth": 2,
            "linecolor": "white",
            "showbackground": true,
            "ticks": "",
            "zerolinecolor": "white"
           },
           "yaxis": {
            "backgroundcolor": "#E5ECF6",
            "gridcolor": "white",
            "gridwidth": 2,
            "linecolor": "white",
            "showbackground": true,
            "ticks": "",
            "zerolinecolor": "white"
           },
           "zaxis": {
            "backgroundcolor": "#E5ECF6",
            "gridcolor": "white",
            "gridwidth": 2,
            "linecolor": "white",
            "showbackground": true,
            "ticks": "",
            "zerolinecolor": "white"
           }
          },
          "shapedefaults": {
           "line": {
            "color": "#2a3f5f"
           }
          },
          "ternary": {
           "aaxis": {
            "gridcolor": "white",
            "linecolor": "white",
            "ticks": ""
           },
           "baxis": {
            "gridcolor": "white",
            "linecolor": "white",
            "ticks": ""
           },
           "bgcolor": "#E5ECF6",
           "caxis": {
            "gridcolor": "white",
            "linecolor": "white",
            "ticks": ""
           }
          },
          "title": {
           "x": 0.05
          },
          "xaxis": {
           "automargin": true,
           "gridcolor": "white",
           "linecolor": "white",
           "ticks": "",
           "title": {
            "standoff": 15
           },
           "zerolinecolor": "white",
           "zerolinewidth": 2
          },
          "yaxis": {
           "automargin": true,
           "gridcolor": "white",
           "linecolor": "white",
           "ticks": "",
           "title": {
            "standoff": 15
           },
           "zerolinecolor": "white",
           "zerolinewidth": 2
          }
         }
        },
        "title": {
         "text": "K-Means Clustering on Digits Dataset"
        }
       }
      }
     },
     "metadata": {},
     "output_type": "display_data"
    }
   ],
   "source": [
    "model = KMeans(n_clusters=10)\n",
    "model.fit(x_pca_train)\n",
    "\n",
    "y_predicted = model.predict(x_pca_test)\n",
    "\n",
    "centroids = model.cluster_centers_\n",
    "\n",
    "scatter = go.Scatter3d(\n",
    "    x=x_pca_test[:, 0],\n",
    "    y=x_pca_test[:, 1],\n",
    "    z=x_pca_test[:, 2],\n",
    "    mode='markers',\n",
    "    marker=dict(\n",
    "        size=4,\n",
    "        color=colors[y_predicted],\n",
    "        opacity=0.8\n",
    "    ),\n",
    "    name='data'\n",
    ")\n",
    "\n",
    "centroid_scatter = go.Scatter3d(\n",
    "    x=centroids[:, 0],\n",
    "    y=centroids[:, 1],\n",
    "    z=centroids[:, 2],\n",
    "    mode='markers',\n",
    "    marker=dict(\n",
    "        size=9,\n",
    "        color='red',\n",
    "        opacity=1,\n",
    "        symbol=\"diamond\"\n",
    "    ),\n",
    "    name='Centroid'\n",
    ")\n",
    "\n",
    "layout = go.Layout(\n",
    "    title='K-Means Clustering on Digits Dataset',\n",
    "    scene=dict(\n",
    "        xaxis=dict(title='PC 1'),\n",
    "        yaxis=dict(title='PC 2'),\n",
    "        zaxis=dict(title='PC 3')\n",
    "    )\n",
    ")\n",
    "\n",
    "fig = go.Figure(data=[scatter, centroid_scatter], layout=layout)\n",
    "fig.show()"
   ]
  },
  {
   "cell_type": "markdown",
   "metadata": {},
   "source": [
    "## Evaluating Clustering Accuracy and Displaying Confusion Matrix\n",
    "\n",
    "The provided code block evaluates the clustering accuracy and displays the confusion matrix based on the mapped cluster labels compared to the true labels.\n",
    "\n",
    "### Clustering Accuracy\n",
    "- The function `map_cluster_labels_to_true_labels` is used to map the cluster labels obtained from K-Means clustering to the true labels.\n",
    "- The accuracy of clustering is calculated by comparing the mapped cluster labels to the true labels.\n",
    "- The `accuracy_score` function from scikit-learn is used to compute the accuracy, which measures the proportion of correctly clustered samples.\n",
    "- The accuracy score is printed to the console using f-strings.\n",
    "\n",
    "### Confusion Matrix Display\n",
    "- The confusion matrix provides a detailed visualization of the clustering performance.\n",
    "- It displays the counts of true positive, true negative, false positive, and false negative predictions for each class.\n",
    "- The confusion matrix is displayed using the `ConfusionMatrixDisplay` class from scikit-learn.\n",
    "- The display labels for the confusion matrix are specified as the sorted labels obtained from mapping cluster labels to true labels.\n",
    "\n",
    "This code block allows for a comprehensive evaluation of the clustering accuracy and provides an intuitive visualization of the clustering performance through the confusion matrix.\n"
   ]
  },
  {
   "cell_type": "code",
   "execution_count": 242,
   "metadata": {},
   "outputs": [
    {
     "name": "stdout",
     "output_type": "stream",
     "text": [
      "Accuracy: 0.7003367003367004\n"
     ]
    },
    {
     "data": {
      "text/plain": [
       "<sklearn.metrics._plot.confusion_matrix.ConfusionMatrixDisplay at 0x7fd0fa594c50>"
      ]
     },
     "execution_count": 242,
     "metadata": {},
     "output_type": "execute_result"
    },
    {
     "data": {
      "image/png": "[encoded data removed]",
      "text/plain": [
       "<Figure size 640x480 with 2 Axes>"
      ]
     },
     "metadata": {},
     "output_type": "display_data"
    }
   ],
   "source": [
    "mapped_labels, c_matrix_, sorted_labels = map_cluster_labels_to_true_labels(y_predicted, y_test)\n",
    "accuracy = accuracy_score(y_test, mapped_labels)\n",
    "print(f\"Accuracy: {accuracy}\")\n",
    "\n",
    "ConfusionMatrixDisplay(c_matrix_, display_labels=sorted_labels).plot()"
   ]
  },
  {
   "cell_type": "markdown",
   "metadata": {},
   "source": [
    "## K-Means Clustering with Breast Cancer Dataset\n",
    "\n",
    "In this exercise, you will perform K-Means clustering on the Breast Cancer dataset to identify distinct clusters of samples based on their features.\n",
    "\n",
    "### Dataset Preparation\n",
    "- Load the Breast Cancer dataset using scikit-learn's `load_breast_cancer` function.\n",
    "- Split the dataset into training and testing sets using `train_test_split`.\n",
    "- Data Labels\n",
    "  1. **mean radius**: Mean of distances from center to points on the perimeter of the tumor.\n",
    "  2. **mean texture**: Standard deviation of gray-scale values.\n",
    "  3. **mean perimeter**: Mean size of the core tumor.\n",
    "  4. **mean area**: Mean area of the tumor.\n",
    "  5. **mean smoothness**: Mean of local variation in radius lengths.\n",
    "  6. **mean compactness**: Mean of perimeter^2 / area - 1.0.\n",
    "  7. **mean concavity**: Mean of severity of concave portions of the contour.\n",
    "  8. **mean concave points**: Mean for number of concave portions of the contour.\n",
    "  9. **mean symmetry**: Mean symmetry of tumor.\n",
    "  10. **mean fractal dimension**: Mean of \"coastline approximation\" - 1.\n",
    "  11. **radius error**: Standard error of distances from center to points on the perimeter.\n",
    "  12. **texture error**: Standard error for standard deviation of gray-scale values.\n",
    "  13. **perimeter error**: Standard error for size of the core tumor.\n",
    "  14. **area error**: Standard error for area of the tumor.\n",
    "  15. **smoothness error**: Standard error for local variation in radius lengths.\n",
    "  16. **compactness error**: Standard error for perimeter^2 / area - 1.0.\n",
    "  17. **concavity error**: Standard error for severity of concave portions of the contour.\n",
    "  18. **concave points error**: Standard error for number of concave portions of the contour.\n",
    "  19. **symmetry error**: Standard error for symmetry of tumor.\n",
    "  20. **fractal dimension error**: Standard error for \"coastline approximation\" - 1.\n",
    "  21. **worst radius**: \"Worst\" or largest mean value for mean of distances from center to points on the perimeter.\n",
    "  22. **worst texture**: \"Worst\" or largest mean value for standard deviation of gray-scale values.\n",
    "  23. **worst perimeter**: \"Worst\" or largest mean value for size of the core tumor.\n",
    "  24. **worst area**: \"Worst\" or largest mean value for area of the tumor.\n",
    "  25. **worst smoothness**: \"Worst\" or largest mean value for local variation in radius lengths.\n",
    "  26. **worst compactness**: \"Worst\" or largest mean value for perimeter^2 / area - 1.0.\n",
    "  27. **worst concavity**: \"Worst\" or largest mean value for severity of concave portions of the contour.\n",
    "  28. **worst concave points**: \"Worst\" or largest mean value for number of concave portions of the contour.\n",
    "  29. **worst symmetry**: \"Worst\" or largest mean value for symmetry of tumor.\n",
    "  30. **worst fractal dimension**: \"Worst\" or largest mean value for \"coastline approximation\" - 1.\n",
    "\n",
    "### K-Means Clustering\n",
    "- Implement K-Means clustering with 2 clusters on the training data.\n",
    "- Use the trained model to predict cluster labels for the test data.\n",
    "\n",
    "### Visualization\n",
    "- Visualize the clusters in a 3D scatter plot.\n",
    "- Each data point is colored based on its predicted cluster label.\n",
    "\n",
    "### Evaluation\n",
    "- Evaluate the clustering accuracy using the predicted cluster labels and the true labels from the test data.\n",
    "- Print the accuracy score to the console.\n",
    "\n"
   ]
  },
  {
   "cell_type": "code",
   "execution_count": 243,
   "metadata": {},
   "outputs": [
    {
     "name": "stdout",
     "output_type": "stream",
     "text": [
      "Accuracy: 0.8617021276595744\n"
     ]
    },
    {
     "data": {
      "application/vnd.plotly.v1+json": {
       "config": {
        "plotlyServerURL": "https://plot.ly"
       },
       "data": [
        {
         "marker": {
          "color": [
           "green",
           "green",
           "green",
           "green",
           "green",
           "green",
           "green",
           "red",
           "green",
           "green",
           "green",
           "red",
           "red",
           "green",
           "green",
           "green",
           "red",
           "green",
           "green",
           "green",
           "red",
           "green",
           "red",
           "red",
           "green",
           "green",
           "green",
           "green",
           "green",
           "green",
           "green",
           "green",
           "green",
           "red",
           "green",
           "green",
           "green",
           "green",
           "green",
           "green",
           "green",
           "green",
           "green",
           "red",
           "green",
           "green",
           "red",
           "green",
           "red",
           "red",
           "green",
           "green",
           "green",
           "green",
           "green",
           "green",
           "green",
           "green",
           "green",
           "green",
           "green",
           "green",
           "red",
           "green",
           "green",
           "green",
           "green",
           "green",
           "red",
           "green",
           "green",
           "green",
           "red",
           "green",
           "green",
           "green",
           "green",
           "green",
           "red",
           "green",
           "green",
           "green",
           "green",
           "green",
           "red",
           "green",
           "red",
           "green",
           "red",
           "red",
           "green",
           "green",
           "red",
           "green",
           "green",
           "red",
           "red",
           "green",
           "green",
           "green",
           "green",
           "green",
           "green",
           "green",
           "green",
           "green",
           "green",
           "green",
           "green",
           "red",
           "green",
           "green",
           "green",
           "green",
           "red",
           "green",
           "green",
           "green",
           "red",
           "green",
           "green",
           "green",
           "green",
           "green",
           "green",
           "green",
           "green",
           "green",
           "green",
           "green",
           "green",
           "red",
           "red",
           "green",
           "red",
           "green",
           "green",
           "green",
           "green",
           "green",
           "green",
           "green",
           "green",
           "red",
           "green",
           "green",
           "red",
           "green",
           "green",
           "green",
           "red",
           "green",
           "green",
           "green",
           "green",
           "red",
           "green",
           "green",
           "red",
           "red",
           "green",
           "green",
           "green",
           "green",
           "green",
           "green",
           "green",
           "green",
           "green",
           "green",
           "red",
           "red",
           "green",
           "red",
           "green",
           "green",
           "green",
           "red",
           "green",
           "red",
           "green",
           "green",
           "green",
           "green",
           "green",
           "red",
           "green",
           "green"
          ],
          "opacity": 0.8,
          "size": 4
         },
         "mode": "markers",
         "name": "data",
         "type": "scatter3d",
         "x": [
          15,
          11.25,
          8.219,
          15.34,
          13.59,
          13.56,
          12.99,
          17.06,
          12.89,
          13.9,
          14.71,
          19.4,
          17.46,
          11.46,
          12.62,
          13.11,
          19.02,
          11.06,
          12.27,
          9.333,
          17.05,
          14.74,
          17.93,
          28.11,
          13.74,
          12.25,
          11.29,
          11.8,
          14.26,
          12.31,
          12.23,
          13,
          16.5,
          20.13,
          14.99,
          11.74,
          12.88,
          10.94,
          12.87,
          14.53,
          14.04,
          8.878,
          8.95,
          17.19,
          12.56,
          16.16,
          19.1,
          10.17,
          19.69,
          19.44,
          13.05,
          13.49,
          12,
          14.64,
          12.72,
          16.27,
          12.72,
          12.58,
          11.13,
          12.98,
          11.62,
          14.69,
          20.55,
          13.15,
          10.8,
          9.405,
          13.88,
          12.8,
          15.66,
          13.46,
          10.03,
          10.49,
          21.56,
          15.37,
          12.46,
          14.58,
          14.25,
          11.26,
          22.27,
          13.45,
          14.59,
          14.34,
          14.5,
          11.31,
          18.31,
          11.89,
          20.16,
          11.08,
          15.5,
          23.09,
          13.27,
          11.75,
          22.01,
          13.69,
          12.06,
          19.55,
          18.77,
          11.06,
          10.29,
          6.981,
          14.97,
          11.06,
          13.17,
          14.29,
          13.75,
          11.6,
          14.99,
          15.13,
          13.38,
          16.78,
          12.63,
          10.25,
          9.876,
          12.39,
          17.91,
          13.85,
          13.08,
          12.45,
          20.64,
          15.1,
          11.99,
          12.36,
          15.46,
          9.847,
          14.22,
          13.71,
          7.76,
          12.34,
          11.75,
          11.95,
          13.64,
          19.21,
          15.7,
          12.77,
          19.53,
          13.48,
          13.85,
          12.16,
          14.42,
          15.71,
          16.02,
          14.58,
          9.731,
          19.55,
          12.46,
          7.691,
          25.22,
          11.22,
          10.32,
          12.34,
          23.29,
          13.81,
          16.3,
          11.08,
          13.2,
          17.75,
          16.25,
          9.667,
          15.78,
          25.73,
          9.904,
          12.75,
          12.34,
          12.06,
          13.54,
          13.05,
          12.34,
          13.05,
          12.86,
          13.03,
          19.16,
          19.17,
          13,
          16.74,
          9.397,
          12.95,
          17.42,
          17.54,
          11.87,
          19.73,
          14.62,
          11.71,
          14.19,
          16.26,
          9.683,
          18.66,
          9.777,
          7.729
         ],
         "y": [
          15.51,
          14.78,
          20.7,
          14.26,
          17.84,
          13.9,
          14.23,
          21,
          13.12,
          19.24,
          21.59,
          18.18,
          39.28,
          18.16,
          23.97,
          22.54,
          24.59,
          14.83,
          29.97,
          21.94,
          19.08,
          25.42,
          24.48,
          18.47,
          17.91,
          17.94,
          13.04,
          16.58,
          19.65,
          16.52,
          19.56,
          21.82,
          18.29,
          28.25,
          25.2,
          14.69,
          18.22,
          18.59,
          16.21,
          13.98,
          15.98,
          15.49,
          15.76,
          22.07,
          19.07,
          21.54,
          26.29,
          14.88,
          21.25,
          18.82,
          19.31,
          22.3,
          15.65,
          15.24,
          17.67,
          20.71,
          13.78,
          18.4,
          16.62,
          19.35,
          18.18,
          13.98,
          20.86,
          15.34,
          9.71,
          21.7,
          16.16,
          17.46,
          23.2,
          28.21,
          21.28,
          19.29,
          22.39,
          22.76,
          12.83,
          13.66,
          22.15,
          19.83,
          19.67,
          18.3,
          22.68,
          13.47,
          10.89,
          19.04,
          20.58,
          21.17,
          19.66,
          14.71,
          21.08,
          19.83,
          17.02,
          20.18,
          21.9,
          16.07,
          12.74,
          28.77,
          21.43,
          14.96,
          27.61,
          13.43,
          19.76,
          17.12,
          18.66,
          16.82,
          23.77,
          18.36,
          22.11,
          29.81,
          30.72,
          18.8,
          20.76,
          16.18,
          17.27,
          17.48,
          21.02,
          15.18,
          15.71,
          16.41,
          17.35,
          22.02,
          24.89,
          18.54,
          23.95,
          15.68,
          23.12,
          20.83,
          24.54,
          14.95,
          17.56,
          14.96,
          15.6,
          18.57,
          20.31,
          21.41,
          32.47,
          20.82,
          19.6,
          18.03,
          19.77,
          13.93,
          23.24,
          21.53,
          15.34,
          23.21,
          19.89,
          25.44,
          24.91,
          33.81,
          16.35,
          26.86,
          26.67,
          23.75,
          15.7,
          18.83,
          15.82,
          28.03,
          19.51,
          18.49,
          22.91,
          17.46,
          18.06,
          16.7,
          22.22,
          18.9,
          14.36,
          18.59,
          12.27,
          13.84,
          18,
          18.42,
          26.6,
          24.8,
          25.13,
          21.59,
          21.68,
          16.02,
          25.56,
          19.32,
          21.54,
          19.82,
          24.02,
          15.45,
          23.81,
          21.88,
          19.34,
          17.12,
          16.99,
          25.49
         ],
         "z": [
          684.5,
          390,
          203.9,
          704.4,
          572.3,
          561.3,
          514.3,
          918.6,
          515.9,
          602.9,
          656.9,
          1145,
          920.6,
          403.1,
          496.4,
          529.4,
          1076,
          378.2,
          465.4,
          264,
          895,
          668.6,
          998.9,
          2499,
          585,
          460.3,
          388,
          432,
          629.9,
          470.9,
          461,
          519.8,
          838.1,
          1261,
          698.8,
          426,
          493.1,
          370,
          512.2,
          644.2,
          611.2,
          241,
          245.2,
          928.3,
          485.8,
          809.8,
          1132,
          311.9,
          1203,
          1167,
          527.2,
          561,
          443.3,
          651.9,
          501.3,
          813.7,
          492.1,
          489,
          381.1,
          514,
          408.8,
          656.1,
          1308,
          538.9,
          357.6,
          271.2,
          596.6,
          508.3,
          773.5,
          562.1,
          307.3,
          336.1,
          1479,
          728.2,
          477.3,
          658.8,
          645.7,
          388.1,
          1509,
          555.1,
          657.1,
          641.2,
          640.7,
          394.1,
          1052,
          433.8,
          1274,
          372.7,
          803.1,
          1682,
          546.4,
          419.8,
          1482,
          579.1,
          448.6,
          1207,
          1092,
          373.9,
          321.4,
          143.5,
          690.2,
          366.5,
          534.6,
          632.6,
          590,
          412.7,
          693.7,
          719.5,
          557.2,
          886.3,
          480.4,
          324.2,
          295.4,
          462.9,
          994,
          587.4,
          520,
          476.7,
          1335,
          712.8,
          441.3,
          466.7,
          731.3,
          293.2,
          609.9,
          577.9,
          181,
          469.1,
          422.9,
          426.7,
          575.3,
          1152,
          766.6,
          507.4,
          1223,
          559.2,
          592.6,
          455.3,
          642.5,
          761.7,
          797.8,
          644.8,
          300.2,
          1174,
          471.3,
          170.4,
          1878,
          386.8,
          324.9,
          477.4,
          1685,
          597.8,
          819.8,
          361.6,
          537.3,
          981.6,
          815.8,
          289.1,
          782.6,
          2010,
          302.4,
          493.8,
          464.5,
          445.3,
          566.3,
          512,
          468.5,
          530.6,
          506.3,
          523.8,
          1138,
          1123,
          520.2,
          869.5,
          268.8,
          513.7,
          948,
          951.6,
          432,
          1206,
          662.7,
          420.3,
          610.7,
          826.8,
          285.7,
          1077,
          290.2,
          178.8
         ]
        },
        {
         "marker": {
          "color": "blue",
          "opacity": 1,
          "size": 9,
          "symbol": "diamond"
         },
         "mode": "markers",
         "name": "Centroid",
         "type": "scatter3d",
         "x": [
          19.35188888888889,
          12.508113402061856
         ],
         "y": [
          21.33222222222222,
          18.412061855670103
         ],
         "z": [
          1181.3066666666664,
          491.9213058419244
         ]
        }
       ],
       "layout": {
        "scene": {
         "xaxis": {
          "title": {
           "text": "PC 1"
          }
         },
         "yaxis": {
          "title": {
           "text": "PC 2"
          }
         },
         "zaxis": {
          "title": {
           "text": "PC 3"
          }
         }
        },
        "template": {
         "data": {
          "bar": [
           {
            "error_x": {
             "color": "#2a3f5f"
            },
            "error_y": {
             "color": "#2a3f5f"
            },
            "marker": {
             "line": {
              "color": "#E5ECF6",
              "width": 0.5
             },
             "pattern": {
              "fillmode": "overlay",
              "size": 10,
              "solidity": 0.2
             }
            },
            "type": "bar"
           }
          ],
          "barpolar": [
           {
            "marker": {
             "line": {
              "color": "#E5ECF6",
              "width": 0.5
             },
             "pattern": {
              "fillmode": "overlay",
              "size": 10,
              "solidity": 0.2
             }
            },
            "type": "barpolar"
           }
          ],
          "carpet": [
           {
            "aaxis": {
             "endlinecolor": "#2a3f5f",
             "gridcolor": "white",
             "linecolor": "white",
             "minorgridcolor": "white",
             "startlinecolor": "#2a3f5f"
            },
            "baxis": {
             "endlinecolor": "#2a3f5f",
             "gridcolor": "white",
             "linecolor": "white",
             "minorgridcolor": "white",
             "startlinecolor": "#2a3f5f"
            },
            "type": "carpet"
           }
          ],
          "choropleth": [
           {
            "colorbar": {
             "outlinewidth": 0,
             "ticks": ""
            },
            "type": "choropleth"
           }
          ],
          "contour": [
           {
            "colorbar": {
             "outlinewidth": 0,
             "ticks": ""
            },
            "colorscale": [
             [
              0,
              "#0d0887"
             ],
             [
              0.1111111111111111,
              "#46039f"
             ],
             [
              0.2222222222222222,
              "#7201a8"
             ],
             [
              0.3333333333333333,
              "#9c179e"
             ],
             [
              0.4444444444444444,
              "#bd3786"
             ],
             [
              0.5555555555555556,
              "#d8576b"
             ],
             [
              0.6666666666666666,
              "#ed7953"
             ],
             [
              0.7777777777777778,
              "#fb9f3a"
             ],
             [
              0.8888888888888888,
              "#fdca26"
             ],
             [
              1,
              "#f0f921"
             ]
            ],
            "type": "contour"
           }
          ],
          "contourcarpet": [
           {
            "colorbar": {
             "outlinewidth": 0,
             "ticks": ""
            },
            "type": "contourcarpet"
           }
          ],
          "heatmap": [
           {
            "colorbar": {
             "outlinewidth": 0,
             "ticks": ""
            },
            "colorscale": [
             [
              0,
              "#0d0887"
             ],
             [
              0.1111111111111111,
              "#46039f"
             ],
             [
              0.2222222222222222,
              "#7201a8"
             ],
             [
              0.3333333333333333,
              "#9c179e"
             ],
             [
              0.4444444444444444,
              "#bd3786"
             ],
             [
              0.5555555555555556,
              "#d8576b"
             ],
             [
              0.6666666666666666,
              "#ed7953"
             ],
             [
              0.7777777777777778,
              "#fb9f3a"
             ],
             [
              0.8888888888888888,
              "#fdca26"
             ],
             [
              1,
              "#f0f921"
             ]
            ],
            "type": "heatmap"
           }
          ],
          "heatmapgl": [
           {
            "colorbar": {
             "outlinewidth": 0,
             "ticks": ""
            },
            "colorscale": [
             [
              0,
              "#0d0887"
             ],
             [
              0.1111111111111111,
              "#46039f"
             ],
             [
              0.2222222222222222,
              "#7201a8"
             ],
             [
              0.3333333333333333,
              "#9c179e"
             ],
             [
              0.4444444444444444,
              "#bd3786"
             ],
             [
              0.5555555555555556,
              "#d8576b"
             ],
             [
              0.6666666666666666,
              "#ed7953"
             ],
             [
              0.7777777777777778,
              "#fb9f3a"
             ],
             [
              0.8888888888888888,
              "#fdca26"
             ],
             [
              1,
              "#f0f921"
             ]
            ],
            "type": "heatmapgl"
           }
          ],
          "histogram": [
           {
            "marker": {
             "pattern": {
              "fillmode": "overlay",
              "size": 10,
              "solidity": 0.2
             }
            },
            "type": "histogram"
           }
          ],
          "histogram2d": [
           {
            "colorbar": {
             "outlinewidth": 0,
             "ticks": ""
            },
            "colorscale": [
             [
              0,
              "#0d0887"
             ],
             [
              0.1111111111111111,
              "#46039f"
             ],
             [
              0.2222222222222222,
              "#7201a8"
             ],
             [
              0.3333333333333333,
              "#9c179e"
             ],
             [
              0.4444444444444444,
              "#bd3786"
             ],
             [
              0.5555555555555556,
              "#d8576b"
             ],
             [
              0.6666666666666666,
              "#ed7953"
             ],
             [
              0.7777777777777778,
              "#fb9f3a"
             ],
             [
              0.8888888888888888,
              "#fdca26"
             ],
             [
              1,
              "#f0f921"
             ]
            ],
            "type": "histogram2d"
           }
          ],
          "histogram2dcontour": [
           {
            "colorbar": {
             "outlinewidth": 0,
             "ticks": ""
            },
            "colorscale": [
             [
              0,
              "#0d0887"
             ],
             [
              0.1111111111111111,
              "#46039f"
             ],
             [
              0.2222222222222222,
              "#7201a8"
             ],
             [
              0.3333333333333333,
              "#9c179e"
             ],
             [
              0.4444444444444444,
              "#bd3786"
             ],
             [
              0.5555555555555556,
              "#d8576b"
             ],
             [
              0.6666666666666666,
              "#ed7953"
             ],
             [
              0.7777777777777778,
              "#fb9f3a"
             ],
             [
              0.8888888888888888,
              "#fdca26"
             ],
             [
              1,
              "#f0f921"
             ]
            ],
            "type": "histogram2dcontour"
           }
          ],
          "mesh3d": [
           {
            "colorbar": {
             "outlinewidth": 0,
             "ticks": ""
            },
            "type": "mesh3d"
           }
          ],
          "parcoords": [
           {
            "line": {
             "colorbar": {
              "outlinewidth": 0,
              "ticks": ""
             }
            },
            "type": "parcoords"
           }
          ],
          "pie": [
           {
            "automargin": true,
            "type": "pie"
           }
          ],
          "scatter": [
           {
            "fillpattern": {
             "fillmode": "overlay",
             "size": 10,
             "solidity": 0.2
            },
            "type": "scatter"
           }
          ],
          "scatter3d": [
           {
            "line": {
             "colorbar": {
              "outlinewidth": 0,
              "ticks": ""
             }
            },
            "marker": {
             "colorbar": {
              "outlinewidth": 0,
              "ticks": ""
             }
            },
            "type": "scatter3d"
           }
          ],
          "scattercarpet": [
           {
            "marker": {
             "colorbar": {
              "outlinewidth": 0,
              "ticks": ""
             }
            },
            "type": "scattercarpet"
           }
          ],
          "scattergeo": [
           {
            "marker": {
             "colorbar": {
              "outlinewidth": 0,
              "ticks": ""
             }
            },
            "type": "scattergeo"
           }
          ],
          "scattergl": [
           {
            "marker": {
             "colorbar": {
              "outlinewidth": 0,
              "ticks": ""
             }
            },
            "type": "scattergl"
           }
          ],
          "scattermapbox": [
           {
            "marker": {
             "colorbar": {
              "outlinewidth": 0,
              "ticks": ""
             }
            },
            "type": "scattermapbox"
           }
          ],
          "scatterpolar": [
           {
            "marker": {
             "colorbar": {
              "outlinewidth": 0,
              "ticks": ""
             }
            },
            "type": "scatterpolar"
           }
          ],
          "scatterpolargl": [
           {
            "marker": {
             "colorbar": {
              "outlinewidth": 0,
              "ticks": ""
             }
            },
            "type": "scatterpolargl"
           }
          ],
          "scatterternary": [
           {
            "marker": {
             "colorbar": {
              "outlinewidth": 0,
              "ticks": ""
             }
            },
            "type": "scatterternary"
           }
          ],
          "surface": [
           {
            "colorbar": {
             "outlinewidth": 0,
             "ticks": ""
            },
            "colorscale": [
             [
              0,
              "#0d0887"
             ],
             [
              0.1111111111111111,
              "#46039f"
             ],
             [
              0.2222222222222222,
              "#7201a8"
             ],
             [
              0.3333333333333333,
              "#9c179e"
             ],
             [
              0.4444444444444444,
              "#bd3786"
             ],
             [
              0.5555555555555556,
              "#d8576b"
             ],
             [
              0.6666666666666666,
              "#ed7953"
             ],
             [
              0.7777777777777778,
              "#fb9f3a"
             ],
             [
              0.8888888888888888,
              "#fdca26"
             ],
             [
              1,
              "#f0f921"
             ]
            ],
            "type": "surface"
           }
          ],
          "table": [
           {
            "cells": {
             "fill": {
              "color": "#EBF0F8"
             },
             "line": {
              "color": "white"
             }
            },
            "header": {
             "fill": {
              "color": "#C8D4E3"
             },
             "line": {
              "color": "white"
             }
            },
            "type": "table"
           }
          ]
         },
         "layout": {
          "annotationdefaults": {
           "arrowcolor": "#2a3f5f",
           "arrowhead": 0,
           "arrowwidth": 1
          },
          "autotypenumbers": "strict",
          "coloraxis": {
           "colorbar": {
            "outlinewidth": 0,
            "ticks": ""
           }
          },
          "colorscale": {
           "diverging": [
            [
             0,
             "#8e0152"
            ],
            [
             0.1,
             "#c51b7d"
            ],
            [
             0.2,
             "#de77ae"
            ],
            [
             0.3,
             "#f1b6da"
            ],
            [
             0.4,
             "#fde0ef"
            ],
            [
             0.5,
             "#f7f7f7"
            ],
            [
             0.6,
             "#e6f5d0"
            ],
            [
             0.7,
             "#b8e186"
            ],
            [
             0.8,
             "#7fbc41"
            ],
            [
             0.9,
             "#4d9221"
            ],
            [
             1,
             "#276419"
            ]
           ],
           "sequential": [
            [
             0,
             "#0d0887"
            ],
            [
             0.1111111111111111,
             "#46039f"
            ],
            [
             0.2222222222222222,
             "#7201a8"
            ],
            [
             0.3333333333333333,
             "#9c179e"
            ],
            [
             0.4444444444444444,
             "#bd3786"
            ],
            [
             0.5555555555555556,
             "#d8576b"
            ],
            [
             0.6666666666666666,
             "#ed7953"
            ],
            [
             0.7777777777777778,
             "#fb9f3a"
            ],
            [
             0.8888888888888888,
             "#fdca26"
            ],
            [
             1,
             "#f0f921"
            ]
           ],
           "sequentialminus": [
            [
             0,
             "#0d0887"
            ],
            [
             0.1111111111111111,
             "#46039f"
            ],
            [
             0.2222222222222222,
             "#7201a8"
            ],
            [
             0.3333333333333333,
             "#9c179e"
            ],
            [
             0.4444444444444444,
             "#bd3786"
            ],
            [
             0.5555555555555556,
             "#d8576b"
            ],
            [
             0.6666666666666666,
             "#ed7953"
            ],
            [
             0.7777777777777778,
             "#fb9f3a"
            ],
            [
             0.8888888888888888,
             "#fdca26"
            ],
            [
             1,
             "#f0f921"
            ]
           ]
          },
          "colorway": [
           "#636efa",
           "#EF553B",
           "#00cc96",
           "#ab63fa",
           "#FFA15A",
           "#19d3f3",
           "#FF6692",
           "#B6E880",
           "#FF97FF",
           "#FECB52"
          ],
          "font": {
           "color": "#2a3f5f"
          },
          "geo": {
           "bgcolor": "white",
           "lakecolor": "white",
           "landcolor": "#E5ECF6",
           "showlakes": true,
           "showland": true,
           "subunitcolor": "white"
          },
          "hoverlabel": {
           "align": "left"
          },
          "hovermode": "closest",
          "mapbox": {
           "style": "light"
          },
          "paper_bgcolor": "white",
          "plot_bgcolor": "#E5ECF6",
          "polar": {
           "angularaxis": {
            "gridcolor": "white",
            "linecolor": "white",
            "ticks": ""
           },
           "bgcolor": "#E5ECF6",
           "radialaxis": {
            "gridcolor": "white",
            "linecolor": "white",
            "ticks": ""
           }
          },
          "scene": {
           "xaxis": {
            "backgroundcolor": "#E5ECF6",
            "gridcolor": "white",
            "gridwidth": 2,
            "linecolor": "white",
            "showbackground": true,
            "ticks": "",
            "zerolinecolor": "white"
           },
           "yaxis": {
            "backgroundcolor": "#E5ECF6",
            "gridcolor": "white",
            "gridwidth": 2,
            "linecolor": "white",
            "showbackground": true,
            "ticks": "",
            "zerolinecolor": "white"
           },
           "zaxis": {
            "backgroundcolor": "#E5ECF6",
            "gridcolor": "white",
            "gridwidth": 2,
            "linecolor": "white",
            "showbackground": true,
            "ticks": "",
            "zerolinecolor": "white"
           }
          },
          "shapedefaults": {
           "line": {
            "color": "#2a3f5f"
           }
          },
          "ternary": {
           "aaxis": {
            "gridcolor": "white",
            "linecolor": "white",
            "ticks": ""
           },
           "baxis": {
            "gridcolor": "white",
            "linecolor": "white",
            "ticks": ""
           },
           "bgcolor": "#E5ECF6",
           "caxis": {
            "gridcolor": "white",
            "linecolor": "white",
            "ticks": ""
           }
          },
          "title": {
           "x": 0.05
          },
          "xaxis": {
           "automargin": true,
           "gridcolor": "white",
           "linecolor": "white",
           "ticks": "",
           "title": {
            "standoff": 15
           },
           "zerolinecolor": "white",
           "zerolinewidth": 2
          },
          "yaxis": {
           "automargin": true,
           "gridcolor": "white",
           "linecolor": "white",
           "ticks": "",
           "title": {
            "standoff": 15
           },
           "zerolinecolor": "white",
           "zerolinewidth": 2
          }
         }
        },
        "title": {
         "text": "K-Means Clustering on Digits Dataset"
        }
       }
      }
     },
     "metadata": {},
     "output_type": "display_data"
    }
   ],
   "source": [
    "colors = np.array([\"red\", \"green\"])\n",
    "\n",
    "bc = datasets.load_breast_cancer()\n",
    "\n",
    "x = bc.data  # Feature matrix\n",
    "y = bc.target  # Target variable\n",
    "x_train, x_test, y_train, y_test = train_test_split(x, y, test_size=.33, random_state=122)\n",
    "\n",
    "# pca = PCA(n_components=2)\n",
    "# x_pca = pca.fit_transform(x)\n",
    "# x_train, x_test, x_pca_train, x_pca_test, y_train, y_test = train_test_split(x, x_pca, y, test_size=.33, random_state=122)\n",
    "\n",
    "model = KMeans(n_clusters=2)\n",
    "model.fit(x_train)\n",
    "\n",
    "centroids = model.cluster_centers_\n",
    "\n",
    "\n",
    "\n",
    "y_predicted = model.predict(x_test)\n",
    "\n",
    "scatter = go.Scatter3d(\n",
    "    x=x_test[:, 0],\n",
    "    y=x_test[:, 1],\n",
    "    z=x_test[:, 3],\n",
    "    mode='markers',\n",
    "    marker=dict(\n",
    "        size=4,\n",
    "        color=colors[y_predicted],\n",
    "        opacity=0.8\n",
    "    ),\n",
    "    name=\"data\"\n",
    ")\n",
    "\n",
    "centroid_scatter = go.Scatter3d(\n",
    "    x=centroids[:, 0],\n",
    "    y=centroids[:, 1],\n",
    "    z=centroids[:, 3],\n",
    "    mode='markers',\n",
    "    marker=dict(\n",
    "        size=9,\n",
    "        color='blue',\n",
    "        opacity=1,\n",
    "        symbol=\"diamond\"\n",
    "    ),\n",
    "    name='Centroid'\n",
    ")\n",
    "\n",
    "layout = go.Layout(\n",
    "    title='K-Means Clustering on Digits Dataset',\n",
    "    scene=dict(\n",
    "        xaxis=dict(title='PC 1'),\n",
    "        yaxis=dict(title='PC 2'),\n",
    "        zaxis=dict(title='PC 3')\n",
    "    )\n",
    ")\n",
    "\n",
    "mapped_labels, c_matrix_, sorted_labels = map_cluster_labels_to_true_labels(y_predicted, y_test)\n",
    "accuracy = accuracy_score(y_test, mapped_labels)\n",
    "print(f\"Accuracy: {accuracy}\")\n",
    "\n",
    "fig = go.Figure(data=[scatter, centroid_scatter], layout=layout)\n",
    "fig.show()\n",
    "\n"
   ]
  }
 ],
 "metadata": {
  "kernelspec": {
   "display_name": "Python 3 (ipykernel)",
   "language": "python",
   "name": "python3"
  },
  "language_info": {
   "codemirror_mode": {
    "name": "ipython",
    "version": 3
   },
   "file_extension": ".py",
   "mimetype": "text/x-python",
   "name": "python",
   "nbconvert_exporter": "python",
   "pygments_lexer": "ipython3",
   "version": "3.11.4"
  }
 },
 "nbformat": 4,
 "nbformat_minor": 2
}
